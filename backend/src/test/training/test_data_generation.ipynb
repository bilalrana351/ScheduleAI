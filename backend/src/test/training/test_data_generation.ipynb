{
 "cells": [
  {
   "cell_type": "code",
   "execution_count": 7,
   "metadata": {},
   "outputs": [],
   "source": [
    "from src.hmms.training.get_training_data_code import get_training_data_cartesian"
   ]
  },
  {
   "cell_type": "code",
   "execution_count": 8,
   "metadata": {},
   "outputs": [
    {
     "name": "stdout",
     "output_type": "stream",
     "text": [
      "Generating training data using cartesian product...\n"
     ]
    }
   ],
   "source": [
    "data = get_training_data_cartesian()"
   ]
  },
  {
   "cell_type": "code",
   "execution_count": 9,
   "metadata": {},
   "outputs": [
    {
     "data": {
      "text/plain": [
       "TrainingInstance(sentence='i want to wake up for <TIME> hour this morning', state_sequence=['O', 'O', 'O', 'A', 'A', 'O', 'T', 'D', 'O', 'P'])"
      ]
     },
     "execution_count": 9,
     "metadata": {},
     "output_type": "execute_result"
    }
   ],
   "source": [
    "data[0]"
   ]
  },
  {
   "cell_type": "code",
   "execution_count": 10,
   "metadata": {},
   "outputs": [
    {
     "name": "stdout",
     "output_type": "stream",
     "text": [
      "--------------------------------\n",
      "For data point number:  0\n",
      "index:  75316\n",
      "sentence='i plan to compare product prices for <TIME> hour in the evening' state_sequence=['O', 'O', 'O', 'A', 'A', 'A', 'O', 'T', 'D', 'O', 'O', 'P']\n",
      "--------------------------------\n",
      "For data point number:  1\n",
      "index:  114551\n",
      "sentence=\"this morning i'll learn an instrument for <TIME> minutes\" state_sequence=['O', 'P', 'O', 'A', 'A', 'A', 'O', 'T', 'D']\n",
      "--------------------------------\n",
      "For data point number:  2\n",
      "index:  112381\n",
      "sentence='i plan to develop a conservation project for <TIME> hours in the morning' state_sequence=['O', 'O', 'O', 'A', 'A', 'A', 'A', 'O', 'T', 'D', 'O', 'O', 'P']\n",
      "--------------------------------\n",
      "For data point number:  3\n",
      "index:  68096\n",
      "sentence=\"this night i'll organize a party for <TIME> minutes\" state_sequence=['O', 'P', 'O', 'A', 'A', 'A', 'O', 'T', 'D']\n",
      "--------------------------------\n",
      "For data point number:  4\n",
      "index:  45663\n",
      "sentence='my goal is to apply for a job for <TIME> minutes this morning' state_sequence=['O', 'O', 'O', 'O', 'A', 'A', 'A', 'A', 'A', 'T', 'D', 'O', 'P']\n",
      "--------------------------------\n",
      "For data point number:  5\n",
      "index:  77344\n",
      "sentence='my preference is to take a scenic drive for <TIME> minutes this morning' state_sequence=['O', 'O', 'O', 'O', 'A', 'A', 'A', 'A', 'O', 'T', 'D', 'O', 'P']\n",
      "--------------------------------\n",
      "For data point number:  6\n",
      "index:  72672\n",
      "sentence='for <TIME> minutes i plan to record a podcast' state_sequence=['O', 'T', 'D', 'O', 'O', 'O', 'A', 'A', 'A']\n",
      "--------------------------------\n",
      "For data point number:  7\n",
      "index:  17710\n",
      "sentence='visit a friend or family member for <TIME> hour this morning' state_sequence=['A', 'A', 'A', 'A', 'A', 'A', 'O', 'T', 'D', 'O', 'P']\n",
      "--------------------------------\n",
      "For data point number:  8\n",
      "index:  39369\n",
      "sentence='i wish to sort recycling for <TIME> minutes this morning' state_sequence=['O', 'O', 'O', 'A', 'A', 'O', 'T', 'D', 'O', 'P']\n",
      "--------------------------------\n",
      "For data point number:  9\n",
      "index:  86467\n",
      "sentence='my objective is to consult a trainer for <TIME> minutes this morning' state_sequence=['O', 'O', 'O', 'O', 'A', 'A', 'A', 'O', 'T', 'D', 'O', 'P']\n"
     ]
    }
   ],
   "source": [
    "import random\n",
    "\n",
    "for _ in range(10):\n",
    "    print(\"--------------------------------\")\n",
    "\n",
    "    print(\"For data point number: \", _)\n",
    "\n",
    "    index = random.randint(0, len(data))\n",
    "\n",
    "    print(\"index: \", index)\n",
    "    print(data[index])"
   ]
  },
  {
   "cell_type": "code",
   "execution_count": null,
   "metadata": {},
   "outputs": [],
   "source": []
  }
 ],
 "metadata": {
  "kernelspec": {
   "display_name": ".venv",
   "language": "python",
   "name": "python3"
  },
  "language_info": {
   "codemirror_mode": {
    "name": "ipython",
    "version": 3
   },
   "file_extension": ".py",
   "mimetype": "text/x-python",
   "name": "python",
   "nbconvert_exporter": "python",
   "pygments_lexer": "ipython3",
   "version": "3.12.3"
  }
 },
 "nbformat": 4,
 "nbformat_minor": 2
}
