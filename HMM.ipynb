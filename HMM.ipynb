{
  "cells": [
    {
      "cell_type": "markdown",
      "metadata": {
        "id": "lDJIV2EVBuFZ"
      },
      "source": [
        "# Fun with Hidden Markov Models\n",
        "*by Loren Lugosch*"
      ]
    },
    {
      "cell_type": "markdown",
      "metadata": {
        "id": "_rWFkdjYOlk8"
      },
      "source": [
        "This notebook introduces the Hidden Markov Model (HMM), a simple model for sequential data.\n",
        "\n",
        "We will see:\n",
        "- what an HMM is and when you might want to use it;\n",
        "- the so-called \"three problems\" of an HMM; and\n",
        "- how to implement an HMM in PyTorch.\n",
        "\n",
        "(The code in this notebook can also be found at https://github.com/lorenlugosch/pytorch_HMM.)"
      ]
    },
    {
      "cell_type": "markdown",
      "metadata": {
        "id": "efPPcGy0gP6H"
      },
      "source": [
        "A hypothetical scenario\n",
        "------\n",
        "\n",
        "To motivate the use of HMMs, imagine that you have a friend who gets to do a lot of travelling. Every day, this jet-setting friend sends you a selfie from the city they’re in, to make you envious."
      ]
    },
    {
      "cell_type": "markdown",
      "metadata": {
        "id": "Cs3z7pnVib9g"
      },
      "source": [
        "<center>\n",
        "\n",
        "![Diagram of a traveling friend sending selfies](https://github.com/lorenlugosch/pytorch_HMM/blob/master/img/selfies.png?raw=true)\n",
        "</center>\n",
        "\n",
        "\n",
        "\n"
      ]
    },
    {
      "cell_type": "markdown",
      "metadata": {
        "id": "hTPNK3IjirDA"
      },
      "source": [
        "How would you go about guessing which city the friend is in each day, just by looking at the selfies?\n",
        "\n",
        "If the selfie contains a really obvious landmark, like the Eiffel Tower, it will be easy to figure out where the photo was taken. If not, it will be a lot harder to infer the city.\n",
        "\n",
        "But we have a clue to help us: the city the friend is in each day is not totally random. For example, the friend will probably remain in the same city for a few days to sightsee before flying to a new city."
      ]
    },
    {
      "cell_type": "markdown",
      "metadata": {
        "id": "k4g7IG7CBx-Y"
      },
      "source": [
        "## The HMM setup\n",
        "\n",
        "The hypothetical scenario of the friend travelling between cities and sending you selfies can be modeled using an HMM.\n"
      ]
    },
    {
      "cell_type": "markdown",
      "metadata": {
        "id": "NpwgbDTnRzRa"
      },
      "source": [
        "An HMM models a system that is in a particular state at any given time and produces an output that depends on that state.\n",
        "\n",
        "At each timestep or clock tick, the system randomly decides on a new state and jumps into that state. The system then randomly generates an observation. The states are \"hidden\": we can't observe them. (In the cities/selfies analogy, the unknown cities would be the hidden states, and the selfies would be the observations.)\n",
        "\n",
        "Let's denote the sequence of states as $\\mathbf{z} = \\{z_1, z_2, \\dots, z_T \\}$, where each state is one of a finite set of $N$ states, and the sequence of observations as $\\mathbf{x} = \\{x_1, x_2, \\dots, x_T\\}$. The observations could be discrete, like letters, or real-valued, like audio frames."
      ]
    },
    {
      "cell_type": "markdown",
      "metadata": {
        "id": "uV5fAhEQDAcJ"
      },
      "source": [
        "<center>\n",
        "\n",
        "![Diagram of an HMM for three timesteps](https://github.com/lorenlugosch/pytorch_HMM/blob/master/img/hmm.png?raw=true)\n",
        "</center>"
      ]
    },
    {
      "cell_type": "markdown",
      "metadata": {
        "id": "vMPrA6Uv-u-K"
      },
      "source": [
        "An HMM makes two key assumptions:\n",
        "- **Assumption 1:** The state at time $t$ depends *only* on the state at the previous time $t-1$.\n",
        "- **Assumption 2:** The output at time $t$ depends *only* on the state at time $t$.\n",
        "\n",
        "These two assumptions make it possible to efficiently compute certain quantities that we may be interested in."
      ]
    },
    {
      "cell_type": "markdown",
      "metadata": {
        "id": "mRNhSK7LgEIS"
      },
      "source": [
        "## Components of an HMM\n",
        "An HMM has three sets of trainable parameters.\n",
        "  \n"
      ]
    },
    {
      "cell_type": "markdown",
      "metadata": {
        "id": "7Pu3zm77vXwp"
      },
      "source": [
        "- The **transition model** is a square matrix $A$, where $A_{s, s'}$ represents $p(z_t = s|z_{t-1} = s')$, the probability of jumping from state $s'$ to state $s$.\n",
        "\n",
        "- The **emission model** $b_s(x_t)$ tells us $p(x_t|z_t = s)$, the probability of generating $x_t$ when the system is in state $s$. For discrete observations, which we will use in this notebook, the emission model is just a lookup table, with one row for each state, and one column for each observation. For real-valued observations, it is common to use a Gaussian mixture model or neural network to implement the emission model.\n",
        "\n",
        "- The **state priors** tell us $p(z_1 = s)$, the probability of starting in state $s$. We use $\\pi$ to denote the vector of state priors, so $\\pi_s$ is the state prior for state $s$.\n",
        "\n",
        "Let's program an HMM class in PyTorch."
      ]
    },
    {
      "cell_type": "code",
      "execution_count": 1,
      "metadata": {
        "id": "aZbW6Pj0og7K"
      },
      "outputs": [],
      "source": [
        "import torch\n",
        "import numpy as np\n",
        "\n",
        "class HMM(torch.nn.Module):\n",
        "  \"\"\"\n",
        "  Hidden Markov Model with discrete observations.\n",
        "  \"\"\"\n",
        "  def __init__(self, M, N):\n",
        "    super(HMM, self).__init__()\n",
        "    self.M = M # number of possible observations\n",
        "    self.N = N # number of states\n",
        "\n",
        "    # A\n",
        "    self.transition_model = TransitionModel(self.N)\n",
        "\n",
        "    # b(x_t)\n",
        "    self.emission_model = EmissionModel(self.N,self.M)\n",
        "\n",
        "    # pi\n",
        "    self.unnormalized_state_priors = torch.nn.Parameter(torch.randn(self.N))\n",
        "\n",
        "    # use the GPU\n",
        "    self.is_cuda = torch.cuda.is_available()\n",
        "    if self.is_cuda: self.cuda()\n",
        "\n",
        "class TransitionModel(torch.nn.Module):\n",
        "  def __init__(self, N):\n",
        "    super(TransitionModel, self).__init__()\n",
        "    self.N = N\n",
        "    self.unnormalized_transition_matrix = torch.nn.Parameter(torch.randn(N,N))\n",
        "\n",
        "class EmissionModel(torch.nn.Module):\n",
        "  def __init__(self, N, M):\n",
        "    super(EmissionModel, self).__init__()\n",
        "    self.N = N\n",
        "    self.M = M\n",
        "    self.unnormalized_emission_matrix = torch.nn.Parameter(torch.randn(N,M))"
      ]
    },
    {
      "cell_type": "markdown",
      "metadata": {
        "id": "eom3ueYtpXGo"
      },
      "source": [
        "To sample from the HMM, we start by picking a random initial state from the state prior distribution.\n",
        "\n",
        "Then, we sample an output from the emission distribution, sample a transition from the transition distribution, and repeat.\n",
        "\n",
        "(Notice that we pass the unnormalized model parameters through a softmax function to make them into probabilities.)\n"
      ]
    },
    {
      "cell_type": "code",
      "execution_count": 2,
      "metadata": {
        "id": "BpgkwNyVwmyM"
      },
      "outputs": [],
      "source": [
        "def sample(self, T=10):\n",
        "  state_priors = torch.nn.functional.softmax(self.unnormalized_state_priors, dim=0)\n",
        "  transition_matrix = torch.nn.functional.softmax(self.transition_model.unnormalized_transition_matrix, dim=0)\n",
        "  emission_matrix = torch.nn.functional.softmax(self.emission_model.unnormalized_emission_matrix, dim=1)\n",
        "\n",
        "  # sample initial state\n",
        "  z_t = torch.distributions.categorical.Categorical(state_priors).sample().item()\n",
        "  z = []; x = []\n",
        "  z.append(z_t)\n",
        "  for t in range(0,T):\n",
        "    # sample emission\n",
        "    x_t = torch.distributions.categorical.Categorical(emission_matrix[z_t]).sample().item()\n",
        "    x.append(x_t)\n",
        "\n",
        "    # sample transition\n",
        "    z_t = torch.distributions.categorical.Categorical(transition_matrix[:,z_t]).sample().item()\n",
        "    if t < T-1: z.append(z_t)\n",
        "\n",
        "  return x, z\n",
        "\n",
        "# Add the sampling method to our HMM class\n",
        "HMM.sample = sample"
      ]
    },
    {
      "cell_type": "markdown",
      "metadata": {
        "id": "ohsdYScawkRG"
      },
      "source": [
        "Let's try hard-coding an HMM for generating fake words. (We'll also add some helper functions for encoding and decoding strings.)\n",
        "\n",
        "We will assume that the system has one state for generating vowels and one state for generating consonants, and the transition matrix has 0s on the diagonal---in other words, the system cannot stay in the vowel state or the consonant state for one than one timestep; it has to switch.\n",
        "\n",
        "Since we pass the transition matrix through a softmax, to get 0s we set the unnormalized parameter values to $-\\infty$."
      ]
    },
    {
      "cell_type": "code",
      "execution_count": 3,
      "metadata": {
        "colab": {
          "base_uri": "https://localhost:8080/"
        },
        "id": "eyR7yv_3sBG3",
        "outputId": "123309a6-ad66-4c6d-977a-60e3af957246"
      },
      "outputs": [
        {
          "name": "stdout",
          "output_type": "stream",
          "text": [
            "State priors: tensor([0.6225, 0.3775])\n",
            "Emission matrix: tensor([[0.0000, 0.0217, 0.0194, 0.0423, 0.0000, 0.0204, 0.0057, 0.0241, 0.0000,\n",
            "         0.0132, 0.0790, 0.0760, 0.0043, 0.0214, 0.0000, 0.0101, 0.0393, 0.0164,\n",
            "         0.0184, 0.0999, 0.0000, 0.3186, 0.0468, 0.0080, 0.0053, 0.1094],\n",
            "        [0.2232, 0.0000, 0.0000, 0.0000, 0.5041, 0.0000, 0.0000, 0.0000, 0.1187,\n",
            "         0.0000, 0.0000, 0.0000, 0.0000, 0.0000, 0.1425, 0.0000, 0.0000, 0.0000,\n",
            "         0.0000, 0.0000, 0.0115, 0.0000, 0.0000, 0.0000, 0.0000, 0.0000]])\n",
            "Transition matrix: tensor([[0., 1.],\n",
            "        [1., 0.]])\n"
          ]
        }
      ],
      "source": [
        "import string\n",
        "alphabet = string.ascii_lowercase\n",
        "\n",
        "def encode(s):\n",
        "  \"\"\"\n",
        "  Convert a string into a list of integers\n",
        "  \"\"\"\n",
        "  x = [alphabet.index(ss) for ss in s]\n",
        "  return x\n",
        "\n",
        "def decode(x):\n",
        "  \"\"\"\n",
        "  Convert list of ints to string\n",
        "  \"\"\"\n",
        "  s = \"\".join([alphabet[xx] for xx in x])\n",
        "  return s\n",
        "\n",
        "# Initialize the model\n",
        "model = HMM(M=len(alphabet), N=2)\n",
        "\n",
        "# Hard-wiring the parameters!\n",
        "# Let state 0 = consonant, state 1 = vowel\n",
        "for p in model.parameters():\n",
        "    p.requires_grad = False # needed to do lines below\n",
        "model.unnormalized_state_priors[0] = 0.    # Let's start with a consonant more frequently\n",
        "model.unnormalized_state_priors[1] = -0.5\n",
        "print(\"State priors:\", torch.nn.functional.softmax(model.unnormalized_state_priors, dim=0))\n",
        "\n",
        "# In state 0, only allow consonants; in state 1, only allow vowels\n",
        "vowel_indices = torch.tensor([alphabet.index(letter) for letter in \"aeiou\"])\n",
        "consonant_indices = torch.tensor([alphabet.index(letter) for letter in \"bcdfghjklmnpqrstvwxyz\"])\n",
        "model.emission_model.unnormalized_emission_matrix[0, vowel_indices] = -np.inf\n",
        "model.emission_model.unnormalized_emission_matrix[1, consonant_indices] = -np.inf\n",
        "print(\"Emission matrix:\", torch.nn.functional.softmax(model.emission_model.unnormalized_emission_matrix, dim=1))\n",
        "\n",
        "# Only allow vowel -> consonant and consonant -> vowel\n",
        "model.transition_model.unnormalized_transition_matrix[0,0] = -np.inf  # consonant -> consonant\n",
        "model.transition_model.unnormalized_transition_matrix[0,1] = 0.       # vowel -> consonant\n",
        "model.transition_model.unnormalized_transition_matrix[1,0] = 0.       # consonant -> vowel\n",
        "model.transition_model.unnormalized_transition_matrix[1,1] = -np.inf  # vowel -> vowel\n",
        "print(\"Transition matrix:\", torch.nn.functional.softmax(model.transition_model.unnormalized_transition_matrix, dim=0))\n",
        "\n"
      ]
    },
    {
      "cell_type": "markdown",
      "metadata": {
        "id": "KFaYq8jDttmi"
      },
      "source": [
        "Try sampling from our hard-coded model:\n"
      ]
    },
    {
      "cell_type": "code",
      "execution_count": 5,
      "metadata": {
        "colab": {
          "base_uri": "https://localhost:8080/"
        },
        "id": "8latFMD7ua0X",
        "outputId": "18529d60-cfee-421d-f49d-0fd281420b7b"
      },
      "outputs": [
        {
          "name": "stdout",
          "output_type": "stream",
          "text": [
            "x: ezove\n",
            "z: [1, 0, 1, 0, 1]\n",
            "x: joked\n",
            "z: [0, 1, 0, 1, 0]\n",
            "x: loxid\n",
            "z: [0, 1, 0, 1, 0]\n",
            "x: tilev\n",
            "z: [0, 1, 0, 1, 0]\n"
          ]
        }
      ],
      "source": [
        "# Sample some outputs\n",
        "for _ in range(4):\n",
        "  sampled_x, sampled_z = model.sample(T=5)\n",
        "  print(\"x:\", decode(sampled_x))\n",
        "  print(\"z:\", sampled_z)"
      ]
    },
    {
      "cell_type": "markdown",
      "metadata": {
        "id": "hKzlTlfRgZod"
      },
      "source": [
        "## The Three Problems\n",
        "\n",
        "In a [classic tutorial](https://www.cs.cmu.edu/~cga/behavior/rabiner1.pdf) on HMMs, Lawrence Rabiner describes \"three problems\" that need to be solved before you can effectively use an HMM. They are:\n",
        "- Problem 1: How do we efficiently compute $p(\\mathbf{x})$?\n",
        "- Problem 2: How do we find the most likely state sequence $\\mathbf{z}$ that could have generated the data?\n",
        "- Problem 3: How do we train the model?\n",
        "\n",
        "In the rest of the notebook, we will see how to solve each problem and implement the solutions in PyTorch."
      ]
    },
    {
      "cell_type": "markdown",
      "metadata": {
        "id": "v_RfIAnmN2RZ"
      },
      "source": [
        "### Problem 1: How do we compute $p(\\mathbf{x})$?"
      ]
    },
    {
      "cell_type": "markdown",
      "metadata": {
        "id": "Z3zUUYH0giKV"
      },
      "source": [
        "\n",
        "#### *Why?*\n",
        "Why might we care about computing $p(\\mathbf{x})$? Here's two reasons.\n",
        "* Given two HMMs, $\\theta_1$ and $\\theta_2$, we can compute the likelihood of some data $\\mathbf{x}$ under each model, $p_{\\theta_1}(\\mathbf{x})$ and $p_{\\theta_2}(\\mathbf{x})$, to decide which model is a better fit to the data.\n",
        "\n",
        "  (For example, given an HMM for English speech and an HMM for French speech, we could compute the likelihood given each model, and pick the model with the higher likelihood to infer whether the person is speaking English or French.)\n",
        "* Being able to compute $p(\\mathbf{x})$ gives us a way to train the model, as we will see later.\n",
        "\n",
        "#### *How?*\n",
        "Given that we want $p(\\mathbf{x})$, how do we compute it?\n",
        "\n",
        "We've assumed that the data is generated by visiting some sequence of states $\\mathbf{z}$ and picking an output $x_t$ for each $z_t$ from the emission distribution $p(x_t|z_t)$. So if we knew $\\mathbf{z}$, then the probability of $\\mathbf{x}$ could be computed as follows:\n",
        "\n",
        "$$p(\\mathbf{x}|\\mathbf{z}) = \\prod_{t} p(x_t|z_t) p(z_t|z_{t-1})$$\n",
        "\n",
        "However, we don't know $\\mathbf{z}$; it's hidden. But we do know the probability of any given $\\mathbf{z}$, independent of what we observe. So we could get the probability of $\\mathbf{x}$ by summing over the different possibilities for $\\mathbf{z}$, like this:\n",
        "\n",
        "$$p(\\mathbf{x}) = \\sum_{\\mathbf{z}} p(\\mathbf{x}|\\mathbf{z}) p(\\mathbf{z}) = \\sum_{\\mathbf{z}} \\prod_{t} p(x_t|z_t) p(z_t|z_{t-1})$$\n",
        "\n",
        "The problem is: if you try to take that sum directly, you will need to compute $N^T$ terms. This is impossible to do for anything but very short sequences. For example, let's say the sequence is of length $T=100$ and there are $N=2$ possible states. Then we would need to check $N^T = 2^{100} \\approx 10^{30}$ different possible state sequences.\n",
        "\n",
        "We need a way to compute $p(\\mathbf{x})$ that doesn't require us to explicitly calculate all $N^T$ terms. For this, we use the forward algorithm."
      ]
    },
    {
      "cell_type": "markdown",
      "metadata": {
        "id": "DrH0YdUAhS6J"
      },
      "source": [
        "________\n",
        "\n",
        "<u><b>The Forward Algorithm</b></u>\n",
        "\n",
        "> for $s=1 \\rightarrow N$:\\\n",
        "> &nbsp;&nbsp;&nbsp;&nbsp;&nbsp;&nbsp;$\\alpha_{s,1} := b_s(x_1) \\cdot \\pi_s$\n",
        ">\n",
        "> for $t = 2 \\rightarrow T$:\\\n",
        "> &nbsp;&nbsp;&nbsp;&nbsp;&nbsp;&nbsp;for $s = 1 \\rightarrow N$:\\\n",
        "> &nbsp;&nbsp;&nbsp;&nbsp;&nbsp;&nbsp;&nbsp;&nbsp;&nbsp;&nbsp;&nbsp;&nbsp;\n",
        "> $\\alpha_{s,t} := b_s(x_t) \\cdot \\underset{s'}{\\sum} A_{s, s'} \\cdot \\alpha_{s',t-1} $\n",
        ">\n",
        "> $p(\\mathbf{x}) := \\underset{s}{\\sum} \\alpha_{s,T}$\\\n",
        "> return $p(\\mathbf{x})$\n",
        "________\n"
      ]
    },
    {
      "cell_type": "markdown",
      "metadata": {
        "id": "bAdpwRiMn8Vn"
      },
      "source": [
        "The forward algorithm is much faster than enumerating all $N^T$ possible state sequences: it requires only $O(N^2T)$ operations to run, since each step is mostly multiplying the vector of forward variables by the transition matrix. (And very often we can reduce that complexity even further, if the transition matrix is sparse.)\n",
        "\n",
        "There is one practical problem with the forward algorithm as presented above: it is prone to underflow due to multiplying a long chain of small numbers, since probabilities are always between 0 and 1. Instead, let's do everything in the log domain. In the log domain, a multiplication becomes a sum, and a sum becomes a [logsumexp](https://lorenlugosch.github.io/posts/2020/06/logsumexp/).  "
      ]
    },
    {
      "cell_type": "markdown",
      "metadata": {
        "id": "FZ8VsLFxA3iT"
      },
      "source": [
        "________\n",
        "\n",
        "<u><b>The Forward Algorithm (Log Domain)</b></u>\n",
        "\n",
        "> for $s=1 \\rightarrow N$:\\\n",
        "> &nbsp;&nbsp;&nbsp;&nbsp;&nbsp;&nbsp;$\\text{log }\\alpha_{s,1} := \\text{log }b_s(x_1) + \\text{log }\\pi_s$\n",
        ">\n",
        "> for $t = 2 \\rightarrow T$:\\\n",
        "> &nbsp;&nbsp;&nbsp;&nbsp;&nbsp;&nbsp;for $s = 1 \\rightarrow N$:\\\n",
        "> &nbsp;&nbsp;&nbsp;&nbsp;&nbsp;&nbsp;&nbsp;&nbsp;&nbsp;&nbsp;&nbsp;&nbsp;\n",
        "> $\\text{log }\\alpha_{s,t} := \\text{log }b_s(x_t) +  \\underset{s'}{\\text{logsumexp}} \\left( \\text{log }A_{s, s'} + \\text{log }\\alpha_{s',t-1} \\right)$\n",
        ">\n",
        "> $\\text{log }p(\\mathbf{x}) := \\underset{s}{\\text{logsumexp}} \\left( \\text{log }\\alpha_{s,T} \\right)$\\\n",
        "> return $\\text{log }p(\\mathbf{x})$\n",
        "________"
      ]
    },
    {
      "cell_type": "markdown",
      "metadata": {
        "id": "g55ik6ZCEiJU"
      },
      "source": [
        "Now that we have a numerically stable version of the forward algorithm, let's implement it in PyTorch."
      ]
    },
    {
      "cell_type": "code",
      "execution_count": 6,
      "metadata": {
        "id": "3CMdK1EfE1SJ"
      },
      "outputs": [],
      "source": [
        "def HMM_forward(self, x, T):\n",
        "  \"\"\"\n",
        "  x : IntTensor of shape (batch size, T_max)\n",
        "  T : IntTensor of shape (batch size)\n",
        "\n",
        "  Compute log p(x) for each example in the batch.\n",
        "  T = length of each example\n",
        "  \"\"\"\n",
        "  if self.is_cuda:\n",
        "    x = x.cuda()\n",
        "    T = T.cuda()\n",
        "\n",
        "  batch_size = x.shape[0]; T_max = x.shape[1]\n",
        "  log_state_priors = torch.nn.functional.log_softmax(self.unnormalized_state_priors, dim=0)\n",
        "  log_alpha = torch.zeros(batch_size, T_max, self.N)\n",
        "  if self.is_cuda: log_alpha = log_alpha.cuda()\n",
        "\n",
        "  log_alpha[:, 0, :] = self.emission_model(x[:,0]) + log_state_priors\n",
        "  for t in range(1, T_max):\n",
        "    log_alpha[:, t, :] = self.emission_model(x[:,t]) + self.transition_model(log_alpha[:, t-1, :])\n",
        "\n",
        "  # Select the sum for the final timestep (each x may have different length).\n",
        "  log_sums = log_alpha.logsumexp(dim=2)\n",
        "  log_probs = torch.gather(log_sums, 1, T.view(-1,1) - 1)\n",
        "  return log_probs\n",
        " \n",
        "def emission_model_forward(self, x_t):\n",
        "  log_emission_matrix = torch.nn.functional.log_softmax(self.unnormalized_emission_matrix, dim=1)\n",
        "  out = log_emission_matrix[:, x_t].transpose(0,1)\n",
        "  return out\n",
        "\n",
        "def transition_model_forward(self, log_alpha):\n",
        "  \"\"\"\n",
        "  log_alpha : Tensor of shape (batch size, N)\n",
        "  Multiply previous timestep's alphas by transition matrix (in log domain)\n",
        "  \"\"\"\n",
        "  log_transition_matrix = torch.nn.functional.log_softmax(self.unnormalized_transition_matrix, dim=0)\n",
        "\n",
        "  # Matrix multiplication in the log domain\n",
        "  out = log_domain_matmul(log_transition_matrix, log_alpha.transpose(0,1)).transpose(0,1)\n",
        "  return out\n",
        "\n",
        "def log_domain_matmul(log_A, log_B):\n",
        "\t\"\"\"\n",
        "\tlog_A : m x n\n",
        "\tlog_B : n x p\n",
        "\toutput : m x p matrix\n",
        "\n",
        "\tNormally, a matrix multiplication\n",
        "\tcomputes out_{i,j} = sum_k A_{i,k} x B_{k,j}\n",
        "\n",
        "\tA log domain matrix multiplication\n",
        "\tcomputes out_{i,j} = logsumexp_k log_A_{i,k} + log_B_{k,j}\n",
        "\t\"\"\"\n",
        "\tm = log_A.shape[0]\n",
        "\tn = log_A.shape[1]\n",
        "\tp = log_B.shape[1]\n",
        "\n",
        "\t# log_A_expanded = torch.stack([log_A] * p, dim=2)\n",
        "\t# log_B_expanded = torch.stack([log_B] * m, dim=0)\n",
        "    # fix for PyTorch > 1.5 by egaznep on Github:\n",
        "\tlog_A_expanded = torch.reshape(log_A, (m,n,1))\n",
        "\tlog_B_expanded = torch.reshape(log_B, (1,n,p))\n",
        "\n",
        "\telementwise_sum = log_A_expanded + log_B_expanded\n",
        "\tout = torch.logsumexp(elementwise_sum, dim=1)\n",
        "\n",
        "\treturn out\n",
        "\n",
        "TransitionModel.forward = transition_model_forward\n",
        "EmissionModel.forward = emission_model_forward\n",
        "HMM.forward = HMM_forward\n"
      ]
    },
    {
      "cell_type": "markdown",
      "metadata": {
        "id": "y-fNnZfqGb1m"
      },
      "source": [
        "Try running the forward algorithm on our vowels/consonants model from before:"
      ]
    },
    {
      "cell_type": "code",
      "execution_count": 7,
      "metadata": {
        "colab": {
          "base_uri": "https://localhost:8080/"
        },
        "id": "8rMAmf-UGhbw",
        "outputId": "a6b57c5a-2d50-4214-b4ee-3e29a67904b1"
      },
      "outputs": [
        {
          "name": "stdout",
          "output_type": "stream",
          "text": [
            "tensor([[-8.2206]])\n",
            "tensor([[-7.8016],\n",
            "        [   -inf]])\n"
          ]
        }
      ],
      "source": [
        "x = torch.stack( [torch.tensor(encode(\"cat\"))] )\n",
        "T = torch.tensor([3])\n",
        "print(model.forward(x, T))\n",
        "\n",
        "x = torch.stack( [torch.tensor(encode(\"aba\")), torch.tensor(encode(\"abb\"))] )\n",
        "T = torch.tensor([3,3])\n",
        "print(model.forward(x, T))"
      ]
    },
    {
      "cell_type": "markdown",
      "metadata": {
        "id": "95TB2gvNHuLn"
      },
      "source": [
        "When using the vowel <-> consonant HMM from above, notice that the forward algorithm returns $-\\infty$ for $\\mathbf{x} = \\text{\"abb\"}$. That's because our transition matrix says the probability of vowel -> vowel and consonant -> consonant is 0, so the probability of $\\text{\"abb\"}$ happening is 0, and thus the log probability is $-\\infty$."
      ]
    },
    {
      "cell_type": "markdown",
      "metadata": {
        "id": "qBCrFobsEM8X"
      },
      "source": [
        "#### *Side note: deriving the forward algorithm*\n",
        "\n",
        "If you're interested in understanding how the forward algorithm actually computes $p(\\mathbf{x})$, read this section; if not, skip to the next part on \"Problem 2\" (finding the most likely state sequence)."
      ]
    },
    {
      "cell_type": "markdown",
      "metadata": {
        "id": "CpHWWKcxhjkx"
      },
      "source": [
        "\n",
        "\n",
        "To derive the forward algorithm, start by deriving the forward variable:\n",
        "\n",
        "$\n",
        "\\begin{align}\n",
        "    \\alpha_{s,t} &= p(x_1, x_2, \\dots, x_t, z_t=s) \\\\\n",
        "     &= p(x_t | x_1, x_2, \\dots, x_{t-1}, z_t = s) \\cdot p(x_1, x_2, \\dots, x_{t-1}, z_t = s)  \\\\\n",
        "    &= p(x_t | z_t = s) \\cdot p(x_1, x_2, \\dots, x_{t-1}, z_t = s) \\\\\n",
        "    &= p(x_t | z_t = s) \\cdot \\left( \\sum_{s'} p(x_1, x_2, \\dots, x_{t-1}, z_{t-1}=s', z_t = s) \\right)\\\\\n",
        "    &= p(x_t | z_t = s) \\cdot \\left( \\sum_{s'} p(z_t = s | x_1, x_2, \\dots, x_{t-1}, z_{t-1}=s') \\cdot p(x_1, x_2, \\dots, x_{t-1}, z_{t-1}=s') \\right)\\\\\n",
        "    &= \\underbrace{p(x_t | z_t = s)}_{\\text{emission model}} \\cdot \\left( \\sum_{s'} \\underbrace{p(z_t = s | z_{t-1}=s')}_{\\text{transition model}} \\cdot \\underbrace{p(x_1, x_2, \\dots, x_{t-1}, z_{t-1}=s')}_{\\text{forward variable for previous timestep}} \\right)\\\\\n",
        "    &= b_s(x_t) \\cdot \\left( \\sum_{s'} A_{s, s'} \\cdot \\alpha_{s',t-1} \\right)\n",
        "\\end{align}\n",
        "$\n",
        "\n",
        "I'll explain how to get to each line of this equation from the previous line.\n",
        "\n",
        "Line 1 is the definition of the forward variable $\\alpha_{s,t}$.\n",
        "\n",
        "Line 2 is the chain rule ($p(A,B) = p(A|B) \\cdot p(B)$, where $A$ is $x_t$ and $B$ is all the other variables).\n",
        "\n",
        "In Line 3, we apply Assumption 2: the probability of observation $x_t$ depends only on the current state $z_t$.\n",
        "\n",
        "In Line 4, we marginalize over all the possible states in the previous timestep $t-1$.\n",
        "\n",
        "In Line 5, we apply the chain rule again.\n",
        "\n",
        "In Line 6, we apply Assumption 1: the current state depends only on the previous state.\n",
        "\n",
        "In Line 7, we substitute in the emission probability, the transition probability, and the forward variable for the previous timestep, to get the complete recursion."
      ]
    },
    {
      "cell_type": "markdown",
      "metadata": {
        "id": "kh1ovNjWDbIA"
      },
      "source": [
        "The formula above can be used for $t = 2 \\rightarrow T$. At $t=1$, there is no previous state, so instead of the transition matrix $A$, we use the state priors $\\pi$, which tell us the probability of starting in each state. Thus for $t=1$, the forward variables are computed as follows:\n",
        "\n",
        "$$\\begin{align}\n",
        "\\alpha_{s,1} &= p(x_1, z_1=s) \\\\\n",
        "  &= p(x_1 | z_1 = s) \\cdot p(z_1 = s)  \\\\\n",
        "&= b_s(x_1) \\cdot \\pi_s\n",
        "\\end{align}$$"
      ]
    },
    {
      "cell_type": "markdown",
      "metadata": {
        "id": "RRzSqkRkEWKX"
      },
      "source": [
        "Finally, to compute $p(\\mathbf{x}) = p(x_1, x_2, \\dots, x_T)$, we marginalize over $\\alpha_{s,T}$, the forward variables computed in the last timestep:\n",
        "\n",
        "$$\\begin{align*}\n",
        "p(\\mathbf{x}) &= \\sum_{s} p(x_1, x_2, \\dots, x_T, z_T = s) \\\\\n",
        "&= \\sum_{s} \\alpha_{s,T}\n",
        "\\end{align*}$$"
      ]
    },
    {
      "cell_type": "markdown",
      "metadata": {
        "id": "qLBU8Iu7I5Tb"
      },
      "source": [
        "You can get from this formulation to the log domain formulation by taking the log of the forward variable, and using these identities:\n",
        "- $\\text{log }(a \\cdot b) = \\text{log }a + \\text{log }b$\n",
        "- $\\text{log }(a + b) = \\text{log }(e^{\\text{log }a} + e^{\\text{log }b}) = \\text{logsumexp}(\\text{log }a, \\text{log }b)$"
      ]
    },
    {
      "cell_type": "markdown",
      "metadata": {
        "id": "bxivzF8hgpiW"
      },
      "source": [
        "### Problem 2: How do we compute $\\underset{\\mathbf{z}}{\\text{argmax }} p(\\mathbf{z}|\\mathbf{x})$?"
      ]
    },
    {
      "cell_type": "markdown",
      "metadata": {
        "id": "c1Kv2yyiN7SX"
      },
      "source": [
        "Given an observation sequence $\\mathbf{x}$, we may want to find the most likely sequence of states that could have generated $\\mathbf{x}$. (Given the sequence of selfies, we want to infer what cities the friend visited.) In other words, we want $\\underset{\\mathbf{z}}{\\text{argmax }} p(\\mathbf{z}|\\mathbf{x})$.\n",
        "\n",
        "We can use Bayes' rule to rewrite this expression:\n",
        "$$\\begin{align*}\n",
        "    \\underset{\\mathbf{z}}{\\text{argmax }} p(\\mathbf{z}|\\mathbf{x}) &= \\underset{\\mathbf{z}}{\\text{argmax }} \\frac{p(\\mathbf{x}|\\mathbf{z}) p(\\mathbf{z})}{p(\\mathbf{x})} \\\\\n",
        "    &= \\underset{\\mathbf{z}}{\\text{argmax }} p(\\mathbf{x}|\\mathbf{z}) p(\\mathbf{z})\n",
        "\\end{align*}$$\n",
        "\n",
        "Hmm! That last expression, $\\underset{\\mathbf{z}}{\\text{argmax }} p(\\mathbf{x}|\\mathbf{z}) p(\\mathbf{z})$, looks suspiciously similar to the intractable expression we encountered before introducing the forward algorithm, $\\underset{\\mathbf{z}}{\\sum} p(\\mathbf{x}|\\mathbf{z}) p(\\mathbf{z})$.\n",
        "\n",
        "And indeed, just as the intractable *sum* over all $\\mathbf{z}$ can be implemented efficiently using the forward algorithm, so too this intractable *argmax* can be implemented efficiently using a similar divide-and-conquer algorithm: the legendary Viterbi algorithm!"
      ]
    },
    {
      "cell_type": "markdown",
      "metadata": {
        "id": "niKZEX5xWeWR"
      },
      "source": [
        "________\n",
        "\n",
        "<u><b>The Viterbi Algorithm</b></u>\n",
        "\n",
        "> for $s=1 \\rightarrow N$:\\\n",
        "> &nbsp;&nbsp;&nbsp;&nbsp;&nbsp;&nbsp;$\\delta_{s,1} := b_s(x_1) \\cdot \\pi_s$\\\n",
        "> &nbsp;&nbsp;&nbsp;&nbsp;&nbsp;&nbsp;$\\psi_{s,1} := 0$\n",
        ">\n",
        "> for $t = 2 \\rightarrow T$:\\\n",
        "> &nbsp;&nbsp;&nbsp;&nbsp;&nbsp;&nbsp;for $s = 1 \\rightarrow N$:\\\n",
        "> &nbsp;&nbsp;&nbsp;&nbsp;&nbsp;&nbsp;&nbsp;&nbsp;&nbsp;&nbsp;&nbsp;&nbsp;$\\delta_{s,t} := b_s(x_t) \\cdot \\left( \\underset{s'}{\\text{max }} A_{s, s'} \\cdot \\delta_{s',t-1} \\right)$\\\n",
        "&nbsp;&nbsp;&nbsp;&nbsp;&nbsp;&nbsp;&nbsp;&nbsp;&nbsp;&nbsp;&nbsp;&nbsp;$\\psi_{s,t} := \\underset{s'}{\\text{argmax }} A_{s, s'} \\cdot \\delta_{s',t-1}$\n",
        ">\n",
        "> $z_T^* := \\underset{s}{\\text{argmax }} \\delta_{s,T}$\\\n",
        "> for $t = T-1 \\rightarrow 1$:\\\n",
        "&nbsp;&nbsp;&nbsp;&nbsp;&nbsp;&nbsp;$z_{t}^* := \\psi_{z_{t+1}^*,t+1}$\n",
        ">\n",
        "> $\\mathbf{z}^* := \\{z_{1}^*, \\dots, z_{T}^* \\}$\\\n",
        "return $\\mathbf{z}^*$\n",
        "________"
      ]
    },
    {
      "cell_type": "markdown",
      "metadata": {
        "id": "UcHVTCucZV6K"
      },
      "source": [
        "The Viterbi algorithm looks somewhat gnarlier than the forward algorithm, but it is essentially the same algorithm, with two tweaks: 1) instead of taking the sum over previous states, we take the max; and 2) we record the argmax of the previous states in a table, and loop back over this table at the end to get $\\mathbf{z}^*$, the most likely state sequence. (And like the forward algorithm, we should run the Viterbi algorithm in the log domain for better numerical stability.)"
      ]
    },
    {
      "cell_type": "markdown",
      "metadata": {
        "id": "NlN7IY_JZ5A-"
      },
      "source": [
        "Let's add the Viterbi algorithm to our PyTorch model:"
      ]
    },
    {
      "cell_type": "code",
      "execution_count": 58,
      "metadata": {
        "id": "qeDG8DVmZ-P0"
      },
      "outputs": [],
      "source": [
        "def viterbi(self, x, T):\n",
        "  \"\"\"\n",
        "  x : IntTensor of shape (batch size, T_max)\n",
        "  T : IntTensor of shape (batch size)\n",
        "  Find argmax_z log p(x|z) for each (x) in the batch.\n",
        "  \"\"\"\n",
        "  if self.is_cuda:\n",
        "    x = x.cuda()\n",
        "    T = T.cuda()\n",
        "\n",
        "  batch_size = x.shape[0]; T_max = x.shape[1]\n",
        "  log_state_priors = torch.nn.functional.log_softmax(self.unnormalized_state_priors, dim=0)\n",
        "  log_delta = torch.zeros(batch_size, T_max, self.N).float()\n",
        "  psi = torch.zeros(batch_size, T_max, self.N).long()\n",
        "  if self.is_cuda:\n",
        "    log_delta = log_delta.cuda()\n",
        "    psi = psi.cuda()\n",
        "\n",
        "  log_delta[:, 0, :] = self.emission_model(x[:,0]) + log_state_priors\n",
        "  for t in range(1, T_max):\n",
        "    max_val, argmax_val = self.transition_model.maxmul(log_delta[:, t-1, :])\n",
        "    log_delta[:, t, :] = self.emission_model(x[:,t]) + max_val\n",
        "    psi[:, t, :] = argmax_val\n",
        "\n",
        "  # Get the log probability of the best path\n",
        "  t = log_delta.max(dim=2)\n",
        "\n",
        "  log_max = log_delta.max(dim=2)[0]\n",
        "\n",
        "  best_path_scores = torch.gather(log_max, 1, T.view(-1,1) - 1)\n",
        "\n",
        "  # This next part is a bit tricky to parallelize across the batch,\n",
        "  # so we will do it separately for each example.\n",
        "  z_star = []\n",
        "  for i in range(0, batch_size):\n",
        "    z_star_i = [ log_delta[i, T[i] - 1, :].max(dim=0)[1].item() ]\n",
        "    for t in range(T[i] - 1, 0, -1):\n",
        "      z_t = psi[i, t, z_star_i[0]].item()\n",
        "      z_star_i.insert(0, z_t)\n",
        "\n",
        "    z_star.append(z_star_i)\n",
        "\n",
        "  return z_star, best_path_scores # return both the best path and its log probability\n",
        "\n",
        "def transition_model_maxmul(self, log_alpha):\n",
        "  log_transition_matrix = torch.nn.functional.log_softmax(self.unnormalized_transition_matrix, dim=0)\n",
        "\n",
        "  out1, out2 = maxmul(log_transition_matrix, log_alpha.transpose(0,1))\n",
        "  return out1.transpose(0,1), out2.transpose(0,1)\n",
        "\n",
        "def maxmul(log_A, log_B):\n",
        "\t\"\"\"\n",
        "\tlog_A : m x n\n",
        "\tlog_B : n x p\n",
        "\toutput : m x p matrix\n",
        "\n",
        "\tSimilar to the log domain matrix multiplication,\n",
        "\tthis computes out_{i,j} = max_k log_A_{i,k} + log_B_{k,j}\n",
        "\t\"\"\"\n",
        "\tm = log_A.shape[0]\n",
        "\tn = log_A.shape[1]\n",
        "\tp = log_B.shape[1]\n",
        "\n",
        "\tlog_A_expanded = torch.stack([log_A] * p, dim=2)\n",
        "\tlog_B_expanded = torch.stack([log_B] * m, dim=0)\n",
        "\n",
        "\telementwise_sum = log_A_expanded + log_B_expanded\n",
        "\tout1,out2 = torch.max(elementwise_sum, dim=1)\n",
        "\n",
        "\treturn out1,out2"
      ]
    },
    {
      "cell_type": "markdown",
      "metadata": {
        "id": "uTGOaeXbaWie"
      },
      "source": [
        "Try running Viterbi on an input sequence, given the vowel/consonant HMM:"
      ]
    },
    {
      "cell_type": "code",
      "execution_count": 61,
      "metadata": {
        "colab": {
          "base_uri": "https://localhost:8080/"
        },
        "id": "zeOTbaIMc23d",
        "outputId": "d179c535-7b5c-42ea-b348-056b4e7efdd7"
      },
      "outputs": [
        {
          "name": "stdout",
          "output_type": "stream",
          "text": [
            "([[1, 0, 1], [1, 0, 0]], tensor([[-8.1916],\n",
            "        [   -inf]]))\n"
          ]
        }
      ],
      "source": [
        "x = torch.stack( [torch.tensor(encode(\"aba\")), torch.tensor(encode(\"abb\"))] )\n",
        "T = torch.tensor([3,3])\n",
        "print(model.viterbi(x, T))"
      ]
    },
    {
      "cell_type": "markdown",
      "metadata": {
        "id": "fKr8YlafdzBx"
      },
      "source": [
        "For $\\mathbf{x} = \\text{\"aba\"}$, the Viterbi algorithm returns $\\mathbf{z}^* = \\{1,0,1\\}$. This corresponds to \"vowel, consonant, vowel\" according to the way we defined the states above, which is correct for this input sequence. Yay!\n",
        "\n",
        "For $\\mathbf{x} = \\text{\"abb\"}$, the Viterbi algorithm still returns a $\\mathbf{z}^*$, but we know this is gibberish because \"vowel, consonant, consonant\" is impossible under this HMM, and indeed the log probability of this path is $-\\infty$."
      ]
    },
    {
      "cell_type": "markdown",
      "metadata": {
        "id": "nCWw0_WienO_"
      },
      "source": [
        "Let's compare the \"forward score\" (the log probability of all possible paths, returned by the forward algorithm) with the \"Viterbi score\" (the log probability of the maximum likelihood path, returned by the Viterbi algorithm):"
      ]
    },
    {
      "cell_type": "code",
      "execution_count": 62,
      "metadata": {
        "colab": {
          "base_uri": "https://localhost:8080/"
        },
        "id": "L9fBOHvdeqWC",
        "outputId": "25808413-b061-414b-aa49-c5403be214db"
      },
      "outputs": [
        {
          "name": "stdout",
          "output_type": "stream",
          "text": [
            "tensor([[-8.1916],\n",
            "        [   -inf]])\n",
            "tensor([[-8.1916],\n",
            "        [   -inf]])\n"
          ]
        }
      ],
      "source": [
        "print(model.forward(x, T))\n",
        "print(model.viterbi(x, T)[1])"
      ]
    },
    {
      "cell_type": "markdown",
      "metadata": {
        "id": "InF6PJVOfHwH"
      },
      "source": [
        "The two scores are the same! That's because in this instance there is only one possible path through the HMM, so the probability of the most likely path is the same as the sum of the probabilities of all possible paths.\n",
        "\n",
        "In general, though, the forward score and Viterbi score will always be somewhat close. This is because of a property of the $\\text{logsumexp}$ function: $\\text{logsumexp}(\\mathbf{x}) \\approx \\max (\\mathbf{x})$. ($\\text{logsumexp}$ is sometimes referred to as the \"smooth maximum\" function.)"
      ]
    },
    {
      "cell_type": "code",
      "execution_count": 63,
      "metadata": {
        "colab": {
          "base_uri": "https://localhost:8080/"
        },
        "id": "x__70tB6gnkF",
        "outputId": "e75db689-519f-4208-9238-794a16167224"
      },
      "outputs": [
        {
          "name": "stdout",
          "output_type": "stream",
          "text": [
            "tensor(3.)\n",
            "tensor(3.4076)\n"
          ]
        }
      ],
      "source": [
        "x = torch.tensor([1., 2., 3.])\n",
        "print(x.max(dim=0)[0])\n",
        "print(x.logsumexp(dim=0))"
      ]
    },
    {
      "cell_type": "markdown",
      "metadata": {
        "id": "SvFtiWhzgy0V"
      },
      "source": [
        "### Problem 3: How do we train the model?\n",
        "\n",
        "\n",
        "\n"
      ]
    },
    {
      "cell_type": "markdown",
      "metadata": {
        "id": "r3JaykRalSBZ"
      },
      "source": [
        "Earlier, we hard-coded an HMM to have certain behavior. What we would like to do instead is have the HMM learn to model the data on its own. And while it is possible to use supervised learning with an HMM (by hard-coding the emission model or the transition model) so that the states have a particular interpretation, the really cool thing about HMMs is that they are naturally unsupervised learners, so they can learn to use their different states to represent different patterns in the data, without the programmer needing to indicate what each state means."
      ]
    },
    {
      "cell_type": "markdown",
      "metadata": {
        "id": "8K471fT4N-PR"
      },
      "source": [
        "Like many machine learning models, an HMM can be trained using maximum likelihood estimation, i.e.:\n",
        "\n",
        "$$\\theta^* = \\underset{\\theta}{\\text{argmin }} -\\sum_{\\mathbf{x}^i}\\text{log }p_{\\theta}(\\mathbf{x}^i)$$\n",
        "\n",
        "where $\\mathbf{x}^1, \\mathbf{x}^2, \\dots$ are training examples.\n",
        "\n",
        "The standard method for doing this is the Expectation-Maximization (EM) algorithm, which for HMMs is also called the \"Baum-Welch\" algorithm. In EM training, we alternate between an \"E-step\", where we estimate the values of the latent variables, and an \"M-step\", where the model parameters are updated given the estimated latent variables. (Think $k$-means, where you guess which cluster each data point belongs to, then reestimate where the clusters are, and repeat.) The EM algorithm has some nice properties: it is guaranteed at each step to decrease the loss function, and the E-step and M-step may have an exact closed form solution, in which case no pesky learning rates are required.\n",
        "\n",
        "But because the HMM forward algorithm is differentiable with respect to all the model parameters, we can also just take advantage of automatic differentiation methods in libraries like PyTorch and try to minimize $-\\text{log }p_{\\theta}(\\mathbf{x})$ directly, by backpropagating through the forward algorithm and running stochastic gradient descent. That means we don't need to write any additional HMM code to implement training: `loss.backward()` is all you need."
      ]
    },
    {
      "cell_type": "markdown",
      "metadata": {
        "id": "aVh0-369qZDC"
      },
      "source": [
        "Here we will implement SGD training for an HMM in PyTorch. First, some helper classes:"
      ]
    },
    {
      "cell_type": "code",
      "execution_count": 64,
      "metadata": {
        "id": "KqiFobGHwdzc"
      },
      "outputs": [],
      "source": [
        "import torch.utils.data\n",
        "from collections import Counter\n",
        "from sklearn.model_selection import train_test_split\n",
        "\n",
        "class TextDataset(torch.utils.data.Dataset):\n",
        "  def __init__(self, lines):\n",
        "    self.lines = lines # list of strings\n",
        "    collate = Collate() # function for generating a minibatch from strings\n",
        "    self.loader = torch.utils.data.DataLoader(self, batch_size=1024, num_workers=1, shuffle=True, collate_fn=collate)\n",
        "\n",
        "  def __len__(self):\n",
        "    return len(self.lines)\n",
        "\n",
        "  def __getitem__(self, idx):\n",
        "    line = self.lines[idx].lstrip(\" \").rstrip(\"\\n\").rstrip(\" \").rstrip(\"\\n\")\n",
        "    return line\n",
        "\n",
        "class Collate:\n",
        "  def __init__(self):\n",
        "    pass\n",
        "\n",
        "  def __call__(self, batch):\n",
        "    \"\"\"\n",
        "    Returns a minibatch of strings, padded to have the same length.\n",
        "    \"\"\"\n",
        "    x = []\n",
        "    batch_size = len(batch)\n",
        "    for index in range(batch_size):\n",
        "      x_ = batch[index]\n",
        "\n",
        "      # convert letters to integers\n",
        "      x.append(encode(x_))\n",
        "\n",
        "    # pad all sequences with 0 to have same length\n",
        "    x_lengths = [len(x_) for x_ in x]\n",
        "    T = max(x_lengths)\n",
        "    for index in range(batch_size):\n",
        "      x[index] += [0] * (T - len(x[index]))\n",
        "      x[index] = torch.tensor(x[index])\n",
        "\n",
        "    # stack into single tensor\n",
        "    x = torch.stack(x)\n",
        "    x_lengths = torch.tensor(x_lengths)\n",
        "    return (x,x_lengths)"
      ]
    },
    {
      "cell_type": "markdown",
      "metadata": {
        "id": "YpDpwnPnAEA9"
      },
      "source": [
        "Let's load some training/testing data. By default, this will use the unix \"words\" file, but you could also use your own text file."
      ]
    },
    {
      "cell_type": "code",
      "execution_count": 65,
      "metadata": {
        "colab": {
          "base_uri": "https://localhost:8080/"
        },
        "id": "52NqFHg8ANsB",
        "outputId": "18754e86-1d8c-4e85-a930-827a5d49793d"
      },
      "outputs": [
        {
          "name": "stderr",
          "output_type": "stream",
          "text": [
            "20117.10s - pydevd: Sending message related to process being replaced timed-out after 5 seconds\n"
          ]
        },
        {
          "name": "stdout",
          "output_type": "stream",
          "text": [
            "--2024-12-18 17:49:19--  https://raw.githubusercontent.com/lorenlugosch/pytorch_HMM/master/data/train/training.txt\n",
            "Resolving raw.githubusercontent.com (raw.githubusercontent.com)... 185.199.111.133, 185.199.110.133, 185.199.108.133, ...\n",
            "Connecting to raw.githubusercontent.com (raw.githubusercontent.com)|185.199.111.133|:443... connected.\n",
            "HTTP request sent, awaiting response... 200 OK\n",
            "Length: 2493109 (2.4M) [text/plain]\n",
            "Saving to: ‘training.txt’\n",
            "\n",
            "training.txt        100%[===================>]   2.38M   928KB/s    in 2.6s    \n",
            "\n",
            "2024-12-18 17:49:23 (928 KB/s) - ‘training.txt’ saved [2493109/2493109]\n",
            "\n"
          ]
        }
      ],
      "source": [
        "!wget https://raw.githubusercontent.com/lorenlugosch/pytorch_HMM/master/data/train/training.txt\n",
        "\n",
        "filename = \"training.txt\"\n",
        "\n",
        "with open(filename, \"r\") as f:\n",
        "  lines = f.readlines() # each line of lines will have one word\n",
        "\n",
        "alphabet = list(Counter((\"\".join(lines))).keys())\n",
        "train_lines, valid_lines = train_test_split(lines, test_size=0.1, random_state=42)\n",
        "train_dataset = TextDataset(train_lines)\n",
        "valid_dataset = TextDataset(valid_lines)\n",
        "\n",
        "M = len(alphabet)"
      ]
    },
    {
      "cell_type": "markdown",
      "metadata": {
        "id": "H0AqmyrK7IUn"
      },
      "source": [
        "We will use a Trainer class for training and testing the model:\n",
        "\n"
      ]
    },
    {
      "cell_type": "code",
      "execution_count": 66,
      "metadata": {
        "id": "iypy_neX9cpq"
      },
      "outputs": [],
      "source": [
        "from tqdm import tqdm # for displaying progress bar\n",
        "\n",
        "class Trainer:\n",
        "  def __init__(self, model, lr):\n",
        "    self.model = model\n",
        "    self.lr = lr\n",
        "    self.optimizer = torch.optim.Adam(model.parameters(), lr=self.lr, weight_decay=0.00001)\n",
        "\n",
        "  def train(self, dataset):\n",
        "    train_loss = 0\n",
        "    num_samples = 0\n",
        "    self.model.train()\n",
        "    print_interval = 50\n",
        "    for idx, batch in enumerate(tqdm(dataset.loader)):\n",
        "      x,T = batch\n",
        "      batch_size = len(x)\n",
        "      num_samples += batch_size\n",
        "      log_probs = self.model(x,T)\n",
        "      loss = -log_probs.mean()\n",
        "      self.optimizer.zero_grad()\n",
        "      loss.backward()\n",
        "      self.optimizer.step()\n",
        "      train_loss += loss.cpu().data.numpy().item() * batch_size\n",
        "      if idx % print_interval == 0:\n",
        "        print(\"loss:\", loss.item())\n",
        "        for _ in range(5):\n",
        "          sampled_x, sampled_z = self.model.sample()\n",
        "          print(decode(sampled_x))\n",
        "          print(sampled_z)\n",
        "    train_loss /= num_samples\n",
        "    return train_loss\n",
        "\n",
        "  def test(self, dataset):\n",
        "    test_loss = 0\n",
        "    num_samples = 0\n",
        "    self.model.eval()\n",
        "    print_interval = 50\n",
        "    for idx, batch in enumerate(dataset.loader):\n",
        "      x,T = batch\n",
        "      batch_size = len(x)\n",
        "      num_samples += batch_size\n",
        "      log_probs = self.model(x,T)\n",
        "      loss = -log_probs.mean()\n",
        "      test_loss += loss.cpu().data.numpy().item() * batch_size\n",
        "      if idx % print_interval == 0:\n",
        "        print(\"loss:\", loss.item())\n",
        "        sampled_x, sampled_z = self.model.sample()\n",
        "        print(decode(sampled_x))\n",
        "        print(sampled_z)\n",
        "    test_loss /= num_samples\n",
        "    return test_loss"
      ]
    },
    {
      "cell_type": "markdown",
      "metadata": {
        "id": "mUR8qbHm9dMg"
      },
      "source": [
        "Finally, initialize the model and run the main training loop. Every 50 batches, the code will produce a few samples from the model. Over time, these samples should look more and more realistic."
      ]
    },
    {
      "cell_type": "code",
      "execution_count": 67,
      "metadata": {
        "colab": {
          "base_uri": "https://localhost:8080/"
        },
        "id": "1-NGIK1Q9g2C",
        "outputId": "71b7ed8f-e021-41f1-c043-cadcb3df8b07"
      },
      "outputs": [
        {
          "name": "stdout",
          "output_type": "stream",
          "text": [
            "========= Epoch 1 of 10 =========\n"
          ]
        },
        {
          "name": "stderr",
          "output_type": "stream",
          "text": [
            "  0%|          | 1/208 [00:00<03:04,  1.12it/s]"
          ]
        },
        {
          "name": "stdout",
          "output_type": "stream",
          "text": [
            "loss: 38.56629943847656\n",
            "DSaMqKzw-p\n",
            "[39, 0, 30, 0, 32, 42, 41, 12, 42, 37]\n",
            "qmLeaVgHTM\n",
            "[43, 63, 40, 59, 9, 9, 58, 27, 44, 8]\n",
            "XDAxlIibaq\n",
            "[3, 11, 29, 42, 12, 28, 9, 58, 33, 16]\n",
            "nILKeaAsdR\n",
            "[5, 2, 17, 61, 17, 2, 8, 51, 8, 35]\n",
            "QfKVGUO-eq\n",
            "[3, 12, 4, 11, 42, 13, 49, 11, 43, 26]\n"
          ]
        },
        {
          "name": "stderr",
          "output_type": "stream",
          "text": [
            " 25%|██▍       | 51/208 [00:23<01:12,  2.16it/s]"
          ]
        },
        {
          "name": "stdout",
          "output_type": "stream",
          "text": [
            "loss: 33.25638961791992\n",
            "-IHIniATtj\n",
            "[15, 5, 7, 10, 47, 58, 5, 18, 61, 33]\n",
            "spnyzeXrfo\n",
            "[30, 6, 13, 42, 5, 17, 27, 0, 21, 1]\n",
            "on\n",
            "inZcBea\n",
            "[6, 30, 41, 15, 47, 60, 10, 16, 25, 58]\n",
            "pssrFevDlt\n",
            "[17, 26, 9, 55, 2, 32, 32, 32, 32, 10]\n",
            "WMxCzSohdl\n",
            "[43, 0, 50, 9, 43, 29, 19, 35, 27, 37]\n"
          ]
        },
        {
          "name": "stderr",
          "output_type": "stream",
          "text": [
            " 49%|████▊     | 101/208 [00:46<00:49,  2.15it/s]"
          ]
        },
        {
          "name": "stdout",
          "output_type": "stream",
          "text": [
            "loss: 30.177398681640625\n",
            "cklsZstxnl\n",
            "[33, 36, 24, 48, 55, 63, 54, 42, 32, 27]\n",
            "NLrguCbwpl\n",
            "[43, 54, 27, 56, 21, 37, 7, 14, 6, 39]\n",
            "Uoucadlkp-\n",
            "[33, 19, 11, 15, 13, 45, 15, 54, 60, 41]\n",
            "seBslkcsca\n",
            "[35, 54, 60, 60, 15, 32, 13, 16, 33, 42]\n",
            "urF-laadjo\n",
            "[30, 19, 11, 41, 33, 19, 7, 34, 54, 55]\n"
          ]
        },
        {
          "name": "stderr",
          "output_type": "stream",
          "text": [
            " 73%|███████▎  | 151/208 [01:09<00:25,  2.27it/s]"
          ]
        },
        {
          "name": "stdout",
          "output_type": "stream",
          "text": [
            "loss: 28.4968318939209\n",
            "boyremtult\n",
            "[33, 19, 60, 50, 13, 18, 26, 7, 2, 32]\n",
            "ouSyntminB\n",
            "[5, 62, 21, 13, 39, 6, 14, 6, 39, 32]\n",
            "ripcdfCere\n",
            "[10, 42, 30, 10, 58, 10, 9, 4, 15, 6]\n",
            "WhanahiIua\n",
            "[51, 35, 13, 14, 6, 39, 9, 7, 33, 58]\n",
            "EeeltMsrtb\n",
            "[27, 12, 6, 30, 33, 19, 11, 9, 19, 29]\n"
          ]
        },
        {
          "name": "stderr",
          "output_type": "stream",
          "text": [
            " 97%|█████████▋| 201/208 [01:32<00:03,  2.26it/s]"
          ]
        },
        {
          "name": "stdout",
          "output_type": "stream",
          "text": [
            "loss: 26.540739059448242\n",
            "psalcreray\n",
            "[29, 63, 42, 63, 6, 18, 6, 33, 58, 55]\n",
            "tocalndaoe\n",
            "[29, 19, 30, 13, 15, 14, 30, 13, 29, 43]\n",
            "ganiolmady\n",
            "[45, 58, 14, 33, 6, 39, 30, 13, 15, 6]\n",
            "hnsiiugord\n",
            "[51, 14, 30, 6, 30, 13, 45, 6, 39, 45]\n",
            "eroctropig\n",
            "[34, 47, 19, 15, 32, 18, 19, 30, 35, 60]\n"
          ]
        },
        {
          "name": "stderr",
          "output_type": "stream",
          "text": [
            "100%|██████████| 208/208 [01:35<00:00,  2.18it/s]\n"
          ]
        },
        {
          "name": "stdout",
          "output_type": "stream",
          "text": [
            "loss: 26.633699417114258\n",
            "neninHneni\n",
            "[7, 6, 0, 9, 15, 6, 39, 13, 15, 6]\n",
            "========= Results: epoch 1 of 10 =========\n",
            "train loss: 30.72| valid loss: 26.54\n",
            "\n",
            "========= Epoch 2 of 10 =========\n"
          ]
        },
        {
          "name": "stderr",
          "output_type": "stream",
          "text": [
            "  0%|          | 1/208 [00:00<02:10,  1.59it/s]"
          ]
        },
        {
          "name": "stdout",
          "output_type": "stream",
          "text": [
            "loss: 26.64848518371582\n",
            "Iumrtthara\n",
            "[30, 13, 33, 42, 15, 54, 57, 13, 18, 43]\n",
            "ciynlorilr\n",
            "[38, 19, 11, 55, 40, 13, 18, 6, 39, 30]\n",
            "sNesnhWcon\n",
            "[63, 37, 6, 0, 25, 35, 6, 33, 19, 45]\n",
            "dilelacglt\n",
            "[30, 9, 15, 6, 30, 13, 51, 39, 53, 41]\n",
            "meQltrateb\n",
            "[0, 54, 32, 18, 19, 15, 13, 15, 6, 0]\n"
          ]
        },
        {
          "name": "stderr",
          "output_type": "stream",
          "text": [
            " 25%|██▍       | 51/208 [00:23<01:10,  2.22it/s]"
          ]
        },
        {
          "name": "stdout",
          "output_type": "stream",
          "text": [
            "loss: 25.161758422851562\n",
            "cytelellyt\n",
            "[30, 13, 33, 6, 39, 6, 41, 60, 13, 39]\n",
            "chindelein\n",
            "[30, 35, 6, 39, 45, 6, 55, 15, 19, 14]\n",
            "Uustrdprbo\n",
            "[63, 42, 0, 54, 18, 43, 29, 18, 15, 19]\n",
            "piisoillat\n",
            "[29, 15, 6, 0, 54, 6, 15, 15, 13, 54]\n",
            "tingycovdt\n",
            "[30, 6, 39, 23, 13, 33, 13, 33, 7, 41]\n"
          ]
        },
        {
          "name": "stderr",
          "output_type": "stream",
          "text": [
            " 49%|████▊     | 101/208 [00:46<00:52,  2.04it/s]"
          ]
        },
        {
          "name": "stdout",
          "output_type": "stream",
          "text": [
            "loss: 25.24020767211914\n",
            "iulhoujyte\n",
            "[38, 42, 30, 35, 19, 42, 63, 13, 54, 6]\n",
            "dUcostalat\n",
            "[45, 6, 15, 6, 0, 54, 13, 15, 13, 15]\n",
            "mongeucico\n",
            "[63, 13, 39, 45, 6, 0, 30, 6, 33, 19]\n",
            "mitomlotan\n",
            "[63, 6, 30, 6, 30, 18, 19, 30, 13, 39]\n",
            "sebuLtusen\n",
            "[15, 6, 0, 61, 53, 41, 42, 0, 6, 0]\n"
          ]
        },
        {
          "name": "stderr",
          "output_type": "stream",
          "text": [
            " 73%|███████▎  | 151/208 [01:08<00:26,  2.18it/s]"
          ]
        },
        {
          "name": "stdout",
          "output_type": "stream",
          "text": [
            "loss: 24.708900451660156\n",
            "ckestoogac\n",
            "[33, 36, 6, 0, 54, 6, 19, 11, 43, 33]\n",
            "momortEmyP\n",
            "[5, 19, 45, 19, 14, 30, 32, 18, 57, 25]\n",
            "Auretirgll\n",
            "[8, 32, 18, 6, 30, 6, 39, 23, 60, 60]\n",
            "plironeina\n",
            "[29, 18, 57, 33, 19, 14, 45, 6, 39, 13]\n",
            "mlludmatou\n",
            "[15, 15, 60, 47, 30, 18, 13, 45, 19, 42]\n"
          ]
        },
        {
          "name": "stderr",
          "output_type": "stream",
          "text": [
            " 97%|█████████▋| 201/208 [01:32<00:03,  2.10it/s]"
          ]
        },
        {
          "name": "stdout",
          "output_type": "stream",
          "text": [
            "loss: 24.42302131652832\n",
            "pryzghousg\n",
            "[30, 18, 13, 39, 30, 35, 19, 42, 0, 30]\n",
            "tanglalogi\n",
            "[29, 13, 39, 23, 60, 13, 15, 19, 29, 6]\n",
            "unfubtlevi\n",
            "[51, 14, 12, 42, 17, 15, 60, 6, 45, 6]\n",
            "thbululate\n",
            "[29, 35, 44, 55, 15, 13, 15, 19, 29, 13]\n",
            "ayittemesi\n",
            "[58, 55, 6, 0, 54, 6, 45, 6, 0, 57]\n"
          ]
        },
        {
          "name": "stderr",
          "output_type": "stream",
          "text": [
            "100%|██████████| 208/208 [01:35<00:00,  2.17it/s]\n"
          ]
        },
        {
          "name": "stdout",
          "output_type": "stream",
          "text": [
            "loss: 24.465774536132812\n",
            "croogexeti\n",
            "[33, 18, 19, 19, 23, 6, 39, 13, 54, 6]\n",
            "========= Results: epoch 2 of 10 =========\n",
            "train loss: 25.29| valid loss: 24.66\n",
            "\n",
            "========= Epoch 3 of 10 =========\n"
          ]
        },
        {
          "name": "stderr",
          "output_type": "stream",
          "text": [
            "  0%|          | 1/208 [00:00<02:18,  1.49it/s]"
          ]
        },
        {
          "name": "stdout",
          "output_type": "stream",
          "text": [
            "loss: 24.985380172729492\n",
            "incerincea\n",
            "[51, 14, 30, 32, 18, 6, 39, 30, 6, 58]\n",
            "frgeilirco\n",
            "[58, 39, 23, 32, 6, 15, 6, 0, 33, 19]\n",
            "magatecink\n",
            "[8, 19, 30, 13, 54, 6, 0, 6, 39, 61]\n",
            "frizrsyrec\n",
            "[10, 18, 43, 33, 42, 30, 13, 18, 6, 30]\n",
            "unphiNngui\n",
            "[51, 14, 29, 35, 6, 58, 39, 23, 7, 6]\n"
          ]
        },
        {
          "name": "stderr",
          "output_type": "stream",
          "text": [
            " 25%|██▍       | 51/208 [00:23<01:13,  2.13it/s]"
          ]
        },
        {
          "name": "stdout",
          "output_type": "stream",
          "text": [
            "loss: 24.55834197998047\n",
            "untintlask\n",
            "[51, 39, 54, 6, 39, 54, 18, 43, 0, 54]\n",
            "henmiziave\n",
            "[35, 6, 39, 45, 6, 30, 6, 19, 45, 13]\n",
            "urmetateta\n",
            "[51, 14, 63, 6, 54, 13, 54, 6, 30, 13]\n",
            "brykvitarn\n",
            "[10, 18, 57, 15, 15, 6, 30, 13, 18, 45]\n",
            "unmoctorti\n",
            "[51, 14, 45, 6, 33, 36, 32, 18, 54, 6]\n"
          ]
        },
        {
          "name": "stderr",
          "output_type": "stream",
          "text": [
            " 49%|████▊     | 101/208 [00:45<00:49,  2.16it/s]"
          ]
        },
        {
          "name": "stdout",
          "output_type": "stream",
          "text": [
            "loss: 24.49178695678711\n",
            "ynecrdifut\n",
            "[13, 45, 6, 30, 18, 45, 6, 12, 42, 29]\n",
            "fumhisstef\n",
            "[10, 42, 63, 35, 6, 0, 63, 15, 6, 38]\n",
            "codretralo\n",
            "[33, 19, 30, 18, 6, 30, 18, 13, 15, 19]\n",
            "piyousosem\n",
            "[29, 6, 45, 19, 42, 63, 6, 54, 6, 45]\n",
            "topelaftat\n",
            "[8, 19, 29, 32, 18, 13, 37, 38, 13, 15]\n"
          ]
        },
        {
          "name": "stderr",
          "output_type": "stream",
          "text": [
            " 73%|███████▎  | 151/208 [01:08<00:27,  2.09it/s]"
          ]
        },
        {
          "name": "stdout",
          "output_type": "stream",
          "text": [
            "loss: 24.036630630493164\n",
            "boticsusga\n",
            "[8, 19, 29, 6, 0, 63, 42, 63, 30, 13]\n",
            "gemblenter\n",
            "[52, 43, 14, 17, 15, 6, 39, 54, 32, 18]\n",
            "burrascrus\n",
            "[10, 51, 14, 18, 13, 0, 30, 18, 42, 63]\n",
            "antipaezer\n",
            "[51, 39, 54, 6, 30, 13, 6, 30, 32, 14]\n",
            "andnalumes\n",
            "[58, 39, 23, 7, 13, 15, 13, 15, 6, 54]\n"
          ]
        },
        {
          "name": "stderr",
          "output_type": "stream",
          "text": [
            " 97%|█████████▋| 201/208 [01:32<00:03,  2.26it/s]"
          ]
        },
        {
          "name": "stdout",
          "output_type": "stream",
          "text": [
            "loss: 24.314184188842773\n",
            "supromaikb\n",
            "[63, 42, 29, 18, 19, 45, 13, 6, 45, 17]\n",
            "broisseeel\n",
            "[10, 18, 19, 6, 0, 63, 6, 54, 32, 15]\n",
            "ulenteango\n",
            "[51, 14, 6, 39, 54, 6, 58, 39, 23, 32]\n",
            "dalaressce\n",
            "[45, 13, 15, 13, 39, 6, 0, 63, 33, 36]\n",
            "heryceoust\n",
            "[35, 32, 18, 57, 30, 6, 19, 42, 0, 54]\n"
          ]
        },
        {
          "name": "stderr",
          "output_type": "stream",
          "text": [
            "100%|██████████| 208/208 [01:35<00:00,  2.17it/s]\n"
          ]
        },
        {
          "name": "stdout",
          "output_type": "stream",
          "text": [
            "loss: 24.225961685180664\n",
            "bonetBrass\n",
            "[29, 13, 39, 6, 54, 35, 18, 43, 0, 63]\n",
            "========= Results: epoch 3 of 10 =========\n",
            "train loss: 24.32| valid loss: 24.13\n",
            "\n",
            "========= Epoch 4 of 10 =========\n"
          ]
        },
        {
          "name": "stderr",
          "output_type": "stream",
          "text": [
            "  0%|          | 1/208 [00:00<02:28,  1.39it/s]"
          ]
        },
        {
          "name": "stdout",
          "output_type": "stream",
          "text": [
            "loss: 23.88266372680664\n",
            "inwagnaris\n",
            "[51, 14, 29, 13, 23, 7, 13, 18, 43, 0]\n",
            "ovedberatc\n",
            "[43, 53, 32, 41, 60, 32, 18, 13, 54, 12]\n",
            "cudderehan\n",
            "[8, 13, 39, 41, 32, 18, 6, 35, 19, 39]\n",
            "benpiaegea\n",
            "[38, 19, 14, 29, 6, 13, 6, 30, 32, 13]\n",
            "eproubsore\n",
            "[43, 29, 18, 19, 42, 0, 63, 19, 14, 43]\n"
          ]
        },
        {
          "name": "stderr",
          "output_type": "stream",
          "text": [
            " 25%|██▍       | 51/208 [00:23<01:12,  2.17it/s]"
          ]
        },
        {
          "name": "stdout",
          "output_type": "stream",
          "text": [
            "loss: 24.08762550354004\n",
            "menZostani\n",
            "[45, 6, 39, 59, 13, 0, 54, 13, 45, 6]\n",
            "bamatelsum\n",
            "[38, 13, 45, 13, 54, 32, 18, 35, 51, 14]\n",
            "langerelri\n",
            "[15, 13, 39, 11, 32, 18, 43, 14, 18, 6]\n",
            "Segelopros\n",
            "[8, 13, 23, 6, 15, 19, 29, 18, 43, 0]\n",
            "shPtlidabl\n",
            "[63, 35, 48, 36, 15, 6, 30, 13, 17, 60]\n"
          ]
        },
        {
          "name": "stderr",
          "output_type": "stream",
          "text": [
            " 49%|████▊     | 101/208 [00:48<00:51,  2.10it/s]"
          ]
        },
        {
          "name": "stdout",
          "output_type": "stream",
          "text": [
            "loss: 24.07686996459961\n",
            "moniteriga\n",
            "[45, 6, 45, 6, 54, 32, 18, 6, 30, 13]\n",
            "fryknicatl\n",
            "[10, 18, 57, 23, 7, 6, 30, 13, 54, 60]\n",
            "surreciish\n",
            "[63, 51, 14, 18, 6, 30, 19, 6, 0, 35]\n",
            "iBmphiermt\n",
            "[28, 51, 14, 29, 35, 6, 32, 14, 63, 54]\n",
            "TocoErecka\n",
            "[8, 19, 33, 19, 11, 18, 6, 33, 36, 13]\n"
          ]
        },
        {
          "name": "stderr",
          "output_type": "stream",
          "text": [
            " 73%|███████▎  | 151/208 [01:12<00:25,  2.21it/s]"
          ]
        },
        {
          "name": "stdout",
          "output_type": "stream",
          "text": [
            "loss: 23.966550827026367\n",
            "cuftrapton\n",
            "[2, 42, 37, 54, 18, 43, 0, 54, 19, 39]\n",
            "phealeotel\n",
            "[29, 35, 6, 13, 15, 6, 19, 29, 32, 15]\n",
            "rintetenth\n",
            "[18, 6, 39, 30, 6, 30, 13, 14, 29, 35]\n",
            "fitionpted\n",
            "[38, 6, 54, 9, 19, 14, 0, 54, 6, 41]\n",
            "shtiatirtm\n",
            "[63, 35, 54, 6, 13, 54, 6, 39, 54, 40]\n"
          ]
        },
        {
          "name": "stderr",
          "output_type": "stream",
          "text": [
            " 97%|█████████▋| 201/208 [01:38<00:03,  2.02it/s]"
          ]
        },
        {
          "name": "stdout",
          "output_type": "stream",
          "text": [
            "loss: 23.836050033569336\n",
            "ilessiegio\n",
            "[51, 14, 6, 0, 54, 9, 19, 23, 6, 19]\n",
            "Alniantaru\n",
            "[51, 14, 45, 6, 58, 39, 54, 32, 18, 42]\n",
            "Loograerdi\n",
            "[8, 19, 19, 23, 18, 13, 6, 39, 41, 6]\n",
            "mabvystere\n",
            "[45, 13, 17, 38, 6, 0, 54, 32, 18, 6]\n",
            "sslitodime\n",
            "[0, 63, 60, 6, 54, 32, 41, 6, 45, 6]\n"
          ]
        },
        {
          "name": "stderr",
          "output_type": "stream",
          "text": [
            "100%|██████████| 208/208 [01:42<00:00,  2.03it/s]\n"
          ]
        },
        {
          "name": "stdout",
          "output_type": "stream",
          "text": [
            "loss: 23.52001953125\n",
            "occriticha\n",
            "[43, 0, 54, 18, 6, 54, 9, 33, 35, 13]\n",
            "========= Results: epoch 4 of 10 =========\n",
            "train loss: 23.93| valid loss: 23.84\n",
            "\n",
            "========= Epoch 5 of 10 =========\n"
          ]
        },
        {
          "name": "stderr",
          "output_type": "stream",
          "text": [
            "  0%|          | 1/208 [00:00<02:30,  1.38it/s]"
          ]
        },
        {
          "name": "stdout",
          "output_type": "stream",
          "text": [
            "loss: 23.617706298828125\n",
            "clgraterry\n",
            "[33, 15, 23, 18, 13, 54, 32, 18, 18, 57]\n",
            "musRuthymi\n",
            "[5, 42, 63, 5, 42, 29, 35, 57, 21, 58]\n",
            "caindicyte\n",
            "[8, 13, 6, 39, 23, 6, 30, 57, 29, 32]\n",
            "dulagegeus\n",
            "[45, 13, 15, 13, 23, 13, 23, 19, 42, 0]\n",
            "chicmmonon\n",
            "[33, 35, 6, 0, 21, 25, 19, 45, 19, 14]\n"
          ]
        },
        {
          "name": "stderr",
          "output_type": "stream",
          "text": [
            " 25%|██▍       | 51/208 [00:26<01:37,  1.62it/s]"
          ]
        },
        {
          "name": "stdout",
          "output_type": "stream",
          "text": [
            "loss: 23.639400482177734\n",
            "cadedtevit\n",
            "[8, 13, 41, 32, 41, 45, 6, 53, 6, 30]\n",
            "frnrhnidav\n",
            "[10, 18, 14, 18, 35, 45, 6, 30, 13, 45]\n",
            "frillyllyp\n",
            "[10, 15, 6, 15, 60, 57, 15, 60, 57, 29]\n",
            "whitsprech\n",
            "[8, 35, 6, 0, 63, 29, 18, 6, 30, 35]\n",
            "rastarlyqu\n",
            "[18, 43, 0, 54, 13, 14, 60, 57, 26, 7]\n"
          ]
        },
        {
          "name": "stderr",
          "output_type": "stream",
          "text": [
            " 49%|████▊     | 101/208 [00:52<00:51,  2.06it/s]"
          ]
        },
        {
          "name": "stdout",
          "output_type": "stream",
          "text": [
            "loss: 23.959516525268555\n",
            "prinetiopr\n",
            "[29, 18, 6, 39, 6, 54, 9, 19, 29, 18]\n",
            "cexemousme\n",
            "[8, 43, 53, 32, 45, 19, 42, 0, 21, 6]\n",
            "Penhedchon\n",
            "[8, 32, 14, 35, 6, 39, 30, 35, 19, 45]\n",
            "pselifKgyn\n",
            "[29, 63, 32, 60, 6, 38, 1, 23, 57, 45]\n",
            "ancosenmon\n",
            "[58, 14, 33, 19, 63, 6, 39, 45, 6, 39]\n"
          ]
        },
        {
          "name": "stderr",
          "output_type": "stream",
          "text": [
            " 73%|███████▎  | 151/208 [01:18<00:28,  1.99it/s]"
          ]
        },
        {
          "name": "stdout",
          "output_type": "stream",
          "text": [
            "loss: 23.733816146850586\n",
            "sphablated\n",
            "[63, 29, 35, 13, 17, 60, 13, 54, 32, 41]\n",
            "maccognopa\n",
            "[45, 13, 0, 33, 43, 11, 39, 19, 29, 43]\n",
            "supemitiid\n",
            "[63, 47, 29, 6, 45, 6, 54, 6, 6, 41]\n",
            "tslerayars\n",
            "[0, 63, 60, 32, 18, 43, 44, 13, 18, 16]\n",
            "mogarnerre\n",
            "[8, 43, 23, 19, 14, 45, 32, 14, 18, 6]\n"
          ]
        },
        {
          "name": "stderr",
          "output_type": "stream",
          "text": [
            " 97%|█████████▋| 201/208 [01:44<00:03,  1.76it/s]"
          ]
        },
        {
          "name": "stdout",
          "output_type": "stream",
          "text": [
            "loss: 23.816692352294922\n",
            "decsytamea\n",
            "[38, 6, 0, 63, 47, 29, 13, 45, 6, 13]\n",
            "urdoanteri\n",
            "[51, 14, 45, 19, 58, 39, 54, 32, 18, 6]\n",
            "garsolasti\n",
            "[8, 13, 14, 63, 19, 15, 13, 0, 54, 6]\n",
            "Gravallomo\n",
            "[10, 18, 43, 53, 13, 15, 60, 19, 45, 19]\n",
            "alnarapaun\n",
            "[58, 14, 45, 13, 18, 43, 29, 13, 51, 39]\n"
          ]
        },
        {
          "name": "stderr",
          "output_type": "stream",
          "text": [
            "100%|██████████| 208/208 [01:48<00:00,  1.92it/s]\n"
          ]
        },
        {
          "name": "stdout",
          "output_type": "stream",
          "text": [
            "loss: 23.814754486083984\n",
            "paleoomila\n",
            "[29, 13, 15, 6, 19, 19, 45, 6, 15, 13]\n",
            "========= Results: epoch 5 of 10 =========\n",
            "train loss: 23.68| valid loss: 23.64\n",
            "\n",
            "========= Epoch 6 of 10 =========\n"
          ]
        },
        {
          "name": "stderr",
          "output_type": "stream",
          "text": [
            "  0%|          | 1/208 [00:00<02:40,  1.29it/s]"
          ]
        },
        {
          "name": "stdout",
          "output_type": "stream",
          "text": [
            "loss: 23.647714614868164\n",
            "coctatorea\n",
            "[8, 43, 0, 54, 13, 54, 32, 18, 6, 13]\n",
            "Dyllllethe\n",
            "[8, 57, 15, 15, 15, 60, 6, 29, 35, 6]\n",
            "thonousmeg\n",
            "[29, 35, 19, 14, 5, 42, 0, 21, 6, 23]\n",
            "psaniangre\n",
            "[29, 63, 19, 39, 6, 13, 39, 23, 18, 6]\n",
            "sedtolousf\n",
            "[63, 6, 39, 54, 13, 15, 19, 42, 63, 38]\n"
          ]
        },
        {
          "name": "stderr",
          "output_type": "stream",
          "text": [
            " 25%|██▍       | 51/208 [00:26<01:21,  1.92it/s]"
          ]
        },
        {
          "name": "stdout",
          "output_type": "stream",
          "text": [
            "loss: 23.412548065185547\n",
            "afenbecond\n",
            "[43, 24, 32, 14, 38, 6, 30, 19, 39, 30]\n",
            "anteyelitr\n",
            "[58, 39, 54, 32, 49, 6, 15, 6, 54, 18]\n",
            "affyttecre\n",
            "[58, 37, 24, 57, 29, 29, 6, 30, 18, 6]\n",
            "weddlinger\n",
            "[38, 32, 41, 41, 18, 6, 39, 23, 32, 14]\n",
            "caQenlbmwa\n",
            "[8, 58, 61, 32, 14, 60, 10, 15, 40, 58]\n"
          ]
        },
        {
          "name": "stderr",
          "output_type": "stream",
          "text": [
            " 49%|████▊     | 101/208 [00:52<00:52,  2.05it/s]"
          ]
        },
        {
          "name": "stdout",
          "output_type": "stream",
          "text": [
            "loss: 23.532718658447266\n",
            "nermoncatl\n",
            "[45, 32, 18, 21, 19, 39, 30, 13, 54, 18]\n",
            "chemesshli\n",
            "[33, 35, 32, 45, 6, 0, 63, 35, 60, 6]\n",
            "umjellyges\n",
            "[51, 21, 38, 13, 15, 60, 57, 23, 6, 0]\n",
            "nemarodura\n",
            "[8, 19, 25, 13, 18, 43, 38, 32, 18, 13]\n",
            "dinogouste\n",
            "[38, 6, 39, 19, 23, 19, 42, 0, 54, 32]\n"
          ]
        },
        {
          "name": "stderr",
          "output_type": "stream",
          "text": [
            " 73%|███████▎  | 151/208 [01:17<00:29,  1.92it/s]"
          ]
        },
        {
          "name": "stdout",
          "output_type": "stream",
          "text": [
            "loss: 23.21592140197754\n",
            "nisphistio\n",
            "[45, 6, 0, 29, 35, 6, 0, 54, 9, 19]\n",
            "cancercusp\n",
            "[10, 58, 39, 30, 32, 14, 5, 42, 63, 29]\n",
            "alidrysost\n",
            "[58, 15, 6, 41, 18, 57, 63, 47, 0, 54]\n",
            "frachymoli\n",
            "[10, 18, 43, 33, 35, 57, 21, 19, 15, 6]\n",
            "archaprocu\n",
            "[58, 39, 33, 35, 13, 29, 18, 43, 33, 42]\n"
          ]
        },
        {
          "name": "stderr",
          "output_type": "stream",
          "text": [
            " 97%|█████████▋| 201/208 [01:42<00:03,  1.96it/s]"
          ]
        },
        {
          "name": "stdout",
          "output_type": "stream",
          "text": [
            "loss: 23.33439826965332\n",
            "phicreffis\n",
            "[29, 35, 6, 33, 18, 6, 37, 24, 9, 30]\n",
            "putenwalsh\n",
            "[29, 6, 54, 32, 14, 40, 58, 14, 16, 35]\n",
            "octisedori\n",
            "[43, 33, 54, 6, 0, 6, 41, 19, 18, 6]\n",
            "sisyprescc\n",
            "[63, 58, 63, 47, 29, 18, 6, 0, 0, 33]\n",
            "hyosybmola\n",
            "[8, 57, 19, 63, 47, 56, 63, 19, 15, 13]\n"
          ]
        },
        {
          "name": "stderr",
          "output_type": "stream",
          "text": [
            "100%|██████████| 208/208 [01:46<00:00,  1.95it/s]\n"
          ]
        },
        {
          "name": "stdout",
          "output_type": "stream",
          "text": [
            "loss: 23.211191177368164\n",
            "swidartede\n",
            "[63, 40, 58, 30, 13, 39, 54, 32, 41, 32]\n",
            "========= Results: epoch 6 of 10 =========\n",
            "train loss: 23.53| valid loss: 23.50\n",
            "\n",
            "========= Epoch 7 of 10 =========\n"
          ]
        },
        {
          "name": "stderr",
          "output_type": "stream",
          "text": [
            "  0%|          | 1/208 [00:00<02:44,  1.26it/s]"
          ]
        },
        {
          "name": "stdout",
          "output_type": "stream",
          "text": [
            "loss: 23.17250633239746\n",
            "obbisthedr\n",
            "[43, 56, 38, 6, 0, 54, 35, 32, 41, 18]\n",
            "troctydlyr\n",
            "[10, 18, 43, 33, 54, 57, 41, 60, 57, 18]\n",
            "pariffurem\n",
            "[10, 58, 14, 9, 24, 12, 55, 18, 6, 45]\n",
            "pativerlee\n",
            "[8, 13, 54, 9, 53, 32, 14, 60, 32, 6]\n",
            "nactrtessu\n",
            "[8, 58, 33, 54, 14, 45, 6, 0, 63, 47]\n"
          ]
        },
        {
          "name": "stderr",
          "output_type": "stream",
          "text": [
            " 25%|██▍       | 51/208 [00:27<01:15,  2.07it/s]"
          ]
        },
        {
          "name": "stdout",
          "output_type": "stream",
          "text": [
            "loss: 23.6308650970459\n",
            "foliannatr\n",
            "[38, 13, 15, 6, 58, 39, 45, 13, 54, 18]\n",
            "irgdomason\n",
            "[51, 39, 23, 45, 19, 25, 13, 54, 19, 14]\n",
            "chletodesp\n",
            "[8, 35, 18, 6, 54, 19, 38, 6, 0, 29]\n",
            "phabullyph\n",
            "[29, 35, 58, 38, 55, 15, 60, 57, 29, 35]\n",
            "urintrenis\n",
            "[51, 14, 6, 39, 54, 18, 6, 39, 6, 0]\n"
          ]
        },
        {
          "name": "stderr",
          "output_type": "stream",
          "text": [
            " 49%|████▊     | 101/208 [00:54<01:04,  1.66it/s]"
          ]
        },
        {
          "name": "stdout",
          "output_type": "stream",
          "text": [
            "loss: 23.254831314086914\n",
            "ashamiphas\n",
            "[43, 0, 35, 13, 45, 6, 29, 35, 13, 0]\n",
            "aharaweaug\n",
            "[43, 35, 13, 14, 13, 11, 32, 5, 42, 52]\n",
            "gursuuiato\n",
            "[8, 47, 14, 63, 47, 7, 6, 13, 54, 19]\n",
            "sodosodrit\n",
            "[63, 43, 41, 19, 63, 32, 41, 18, 6, 54]\n",
            "dophelnoch\n",
            "[38, 19, 29, 35, 32, 15, 45, 19, 33, 35]\n"
          ]
        },
        {
          "name": "stderr",
          "output_type": "stream",
          "text": [
            " 73%|███████▎  | 151/208 [01:20<00:27,  2.04it/s]"
          ]
        },
        {
          "name": "stdout",
          "output_type": "stream",
          "text": [
            "loss: 23.77886199951172\n",
            "vitedelalu\n",
            "[38, 6, 54, 32, 41, 32, 15, 13, 15, 7]\n",
            "chertollis\n",
            "[33, 35, 32, 14, 54, 19, 15, 60, 6, 0]\n",
            "mincizaiil\n",
            "[38, 6, 39, 54, 9, 30, 13, 17, 9, 15]\n",
            "mitoarNner\n",
            "[38, 6, 54, 19, 58, 14, 13, 39, 32, 18]\n",
            "candnedeze\n",
            "[8, 58, 39, 41, 45, 6, 38, 6, 30, 32]\n"
          ]
        },
        {
          "name": "stderr",
          "output_type": "stream",
          "text": [
            " 97%|█████████▋| 201/208 [01:45<00:03,  1.92it/s]"
          ]
        },
        {
          "name": "stdout",
          "output_type": "stream",
          "text": [
            "loss: 23.419246673583984\n",
            "fampoiouse\n",
            "[10, 13, 21, 29, 19, 6, 5, 42, 63, 43]\n",
            "irwiforota\n",
            "[51, 14, 40, 6, 24, 32, 18, 43, 30, 13]\n",
            "hyplecania\n",
            "[8, 57, 29, 15, 6, 30, 13, 45, 6, 58]\n",
            "unpranwiap\n",
            "[51, 39, 10, 18, 13, 39, 3, 6, 43, 29]\n",
            "queatiorra\n",
            "[26, 7, 6, 13, 54, 9, 19, 14, 18, 13]\n"
          ]
        },
        {
          "name": "stderr",
          "output_type": "stream",
          "text": [
            "100%|██████████| 208/208 [01:49<00:00,  1.90it/s]\n"
          ]
        },
        {
          "name": "stdout",
          "output_type": "stream",
          "text": [
            "loss: 23.167831420898438\n",
            "shynsdamol\n",
            "[63, 35, 6, 39, 63, 45, 19, 45, 19, 15]\n",
            "========= Results: epoch 7 of 10 =========\n",
            "train loss: 23.42| valid loss: 23.41\n",
            "\n",
            "========= Epoch 8 of 10 =========\n"
          ]
        },
        {
          "name": "stderr",
          "output_type": "stream",
          "text": [
            "  0%|          | 1/208 [00:00<02:42,  1.27it/s]"
          ]
        },
        {
          "name": "stdout",
          "output_type": "stream",
          "text": [
            "loss: 23.527868270874023\n",
            "slysataret\n",
            "[63, 60, 57, 63, 13, 54, 13, 18, 43, 29]\n",
            "fullimalin\n",
            "[24, 55, 15, 15, 6, 45, 13, 15, 9, 39]\n",
            "ockerectio\n",
            "[43, 33, 36, 32, 18, 6, 33, 54, 9, 19]\n",
            "reschefede\n",
            "[18, 43, 0, 33, 35, 6, 24, 32, 41, 6]\n",
            "spadesijrt\n",
            "[63, 29, 43, 41, 19, 45, 6, 58, 14, 54]\n"
          ]
        },
        {
          "name": "stderr",
          "output_type": "stream",
          "text": [
            " 25%|██▍       | 51/208 [00:26<01:22,  1.90it/s]"
          ]
        },
        {
          "name": "stdout",
          "output_type": "stream",
          "text": [
            "loss: 23.313901901245117\n",
            "snelipsupe\n",
            "[63, 45, 6, 60, 6, 29, 63, 47, 29, 13]\n",
            "icllyddide\n",
            "[58, 33, 15, 60, 57, 41, 41, 6, 41, 19]\n",
            "prhalinalo\n",
            "[10, 18, 35, 58, 39, 6, 45, 13, 15, 19]\n",
            "cauliousta\n",
            "[8, 58, 55, 15, 6, 5, 42, 63, 54, 13]\n",
            "ackathemif\n",
            "[58, 33, 36, 13, 54, 35, 6, 45, 6, 24]\n"
          ]
        },
        {
          "name": "stderr",
          "output_type": "stream",
          "text": [
            " 49%|████▊     | 101/208 [00:52<01:00,  1.78it/s]"
          ]
        },
        {
          "name": "stdout",
          "output_type": "stream",
          "text": [
            "loss: 23.123489379882812\n",
            "untyonisst\n",
            "[51, 39, 54, 57, 19, 45, 6, 0, 63, 54]\n",
            "potelthomi\n",
            "[8, 19, 54, 32, 15, 54, 35, 19, 45, 6]\n",
            "nonececooc\n",
            "[45, 19, 39, 43, 30, 6, 33, 43, 6, 30]\n",
            "lutsiTolly\n",
            "[8, 42, 0, 63, 6, 15, 19, 15, 60, 57]\n",
            "pervessome\n",
            "[8, 32, 14, 38, 6, 0, 54, 19, 25, 32]\n"
          ]
        },
        {
          "name": "stderr",
          "output_type": "stream",
          "text": [
            " 73%|███████▎  | 151/208 [01:19<00:30,  1.87it/s]"
          ]
        },
        {
          "name": "stdout",
          "output_type": "stream",
          "text": [
            "loss: 23.3695125579834\n",
            "preanemese\n",
            "[10, 18, 43, 58, 14, 32, 40, 6, 30, 32]\n",
            "restivodit\n",
            "[18, 6, 0, 54, 6, 53, 32, 45, 6, 54]\n",
            "unefulptei\n",
            "[51, 39, 6, 12, 55, 15, 29, 54, 32, 9]\n",
            "phoobbical\n",
            "[29, 35, 19, 43, 56, 17, 9, 30, 13, 15]\n",
            "sytticerdl\n",
            "[63, 57, 29, 54, 9, 30, 32, 14, 41, 60]\n"
          ]
        },
        {
          "name": "stderr",
          "output_type": "stream",
          "text": [
            " 97%|█████████▋| 201/208 [01:44<00:03,  2.04it/s]"
          ]
        },
        {
          "name": "stdout",
          "output_type": "stream",
          "text": [
            "loss: 23.45854949951172\n",
            "moyldrnerg\n",
            "[38, 19, 4, 15, 41, 18, 45, 32, 14, 25]\n",
            "canterkeov\n",
            "[8, 58, 39, 54, 32, 14, 61, 32, 43, 38]\n",
            "pozinociag\n",
            "[8, 19, 30, 6, 39, 43, 33, 6, 13, 23]\n",
            "cohettaned\n",
            "[8, 19, 45, 6, 0, 54, 13, 45, 6, 30]\n",
            "Goglenneat\n",
            "[8, 19, 23, 60, 32, 39, 45, 6, 13, 54]\n"
          ]
        },
        {
          "name": "stderr",
          "output_type": "stream",
          "text": [
            "100%|██████████| 208/208 [01:48<00:00,  1.92it/s]\n"
          ]
        },
        {
          "name": "stdout",
          "output_type": "stream",
          "text": [
            "loss: 23.431076049804688\n",
            "tredirocot\n",
            "[10, 18, 6, 41, 32, 14, 13, 33, 19, 29]\n",
            "========= Results: epoch 8 of 10 =========\n",
            "train loss: 23.35| valid loss: 23.35\n",
            "\n",
            "========= Epoch 9 of 10 =========\n"
          ]
        },
        {
          "name": "stderr",
          "output_type": "stream",
          "text": [
            "  0%|          | 1/208 [00:00<02:43,  1.27it/s]"
          ]
        },
        {
          "name": "stdout",
          "output_type": "stream",
          "text": [
            "loss: 23.50962257385254\n",
            "crodormayr\n",
            "[10, 18, 43, 41, 32, 14, 25, 13, 57, 18]\n",
            "hbumtiteni\n",
            "[20, 20, 31, 21, 29, 6, 30, 32, 39, 6]\n",
            "stedgsocul\n",
            "[63, 54, 32, 41, 23, 63, 43, 33, 55, 15]\n",
            "pamalppego\n",
            "[10, 13, 45, 13, 15, 29, 29, 13, 23, 32]\n",
            "unchricydj\n",
            "[51, 39, 33, 35, 18, 6, 30, 57, 41, 48]\n"
          ]
        },
        {
          "name": "stderr",
          "output_type": "stream",
          "text": [
            " 25%|██▍       | 51/208 [00:30<01:30,  1.73it/s]"
          ]
        },
        {
          "name": "stdout",
          "output_type": "stream",
          "text": [
            "loss: 23.4444580078125\n",
            "pralininco\n",
            "[29, 18, 13, 15, 6, 45, 6, 39, 33, 19]\n",
            "ohasstento\n",
            "[43, 35, 58, 0, 63, 54, 32, 39, 54, 19]\n",
            "gayiadresl\n",
            "[8, 58, 46, 6, 58, 41, 18, 43, 63, 60]\n",
            "Qngiviarti\n",
            "[51, 39, 23, 9, 53, 6, 32, 14, 54, 9]\n",
            "nextnisisu\n",
            "[8, 6, 0, 54, 45, 6, 0, 58, 63, 47]\n"
          ]
        },
        {
          "name": "stderr",
          "output_type": "stream",
          "text": [
            " 49%|████▊     | 101/208 [01:07<01:46,  1.01it/s]"
          ]
        },
        {
          "name": "stdout",
          "output_type": "stream",
          "text": [
            "loss: 23.230112075805664\n",
            "Guchonesop\n",
            "[10, 47, 33, 35, 19, 45, 6, 0, 43, 29]\n",
            "sseniaesst\n",
            "[63, 45, 6, 45, 6, 13, 6, 0, 63, 54]\n",
            "Soderectil\n",
            "[8, 43, 41, 32, 18, 58, 33, 54, 9, 60]\n",
            "gragittite\n",
            "[10, 18, 13, 23, 6, 0, 54, 9, 30, 6]\n",
            "introcucte\n",
            "[51, 39, 54, 18, 58, 33, 47, 33, 54, 32]\n"
          ]
        },
        {
          "name": "stderr",
          "output_type": "stream",
          "text": [
            " 73%|███████▎  | 151/208 [01:47<00:44,  1.28it/s]"
          ]
        },
        {
          "name": "stdout",
          "output_type": "stream",
          "text": [
            "loss: 23.379150390625\n",
            "lareterise\n",
            "[8, 58, 14, 6, 54, 32, 18, 9, 0, 43]\n",
            "proponddyl\n",
            "[10, 18, 43, 29, 19, 39, 41, 41, 4, 15]\n",
            "iuryrameli\n",
            "[58, 62, 18, 57, 18, 43, 21, 6, 15, 6]\n",
            "silithetes\n",
            "[63, 58, 15, 6, 54, 35, 6, 45, 6, 0]\n",
            "radonacobu\n",
            "[18, 58, 41, 19, 45, 13, 33, 19, 34, 42]\n"
          ]
        },
        {
          "name": "stderr",
          "output_type": "stream",
          "text": [
            " 97%|█████████▋| 201/208 [02:24<00:05,  1.31it/s]"
          ]
        },
        {
          "name": "stdout",
          "output_type": "stream",
          "text": [
            "loss: 23.25674057006836\n",
            "qomitympon\n",
            "[38, 19, 45, 6, 54, 57, 21, 29, 19, 45]\n",
            "ungydnensy\n",
            "[51, 39, 23, 57, 41, 45, 6, 39, 63, 57]\n",
            "hesmarallt\n",
            "[35, 6, 0, 25, 13, 15, 13, 15, 15, 54]\n",
            "ehnoogeriv\n",
            "[43, 35, 45, 19, 19, 23, 32, 14, 9, 53]\n",
            "Engebruxet\n",
            "[51, 39, 23, 6, 34, 18, 47, 14, 6, 54]\n"
          ]
        },
        {
          "name": "stderr",
          "output_type": "stream",
          "text": [
            "100%|██████████| 208/208 [02:30<00:00,  1.38it/s]\n"
          ]
        },
        {
          "name": "stdout",
          "output_type": "stream",
          "text": [
            "loss: 23.184675216674805\n",
            "Soenpederi\n",
            "[8, 19, 51, 39, 10, 58, 41, 32, 14, 6]\n",
            "========= Results: epoch 9 of 10 =========\n",
            "train loss: 23.29| valid loss: 23.31\n",
            "\n",
            "========= Epoch 10 of 10 =========\n"
          ]
        },
        {
          "name": "stderr",
          "output_type": "stream",
          "text": [
            "  0%|          | 1/208 [00:01<04:23,  1.27s/it]"
          ]
        },
        {
          "name": "stdout",
          "output_type": "stream",
          "text": [
            "loss: 23.07433319091797\n",
            "Jistroirth\n",
            "[8, 6, 0, 54, 18, 19, 51, 14, 54, 35]\n",
            "Casmypwgyt\n",
            "[8, 58, 0, 25, 57, 29, 40, 23, 57, 54]\n",
            "caitheraei\n",
            "[8, 58, 6, 29, 35, 32, 18, 13, 54, 9]\n",
            "therinatic\n",
            "[16, 35, 58, 14, 9, 30, 13, 54, 9, 30]\n",
            "stodubrita\n",
            "[63, 54, 43, 41, 47, 56, 18, 6, 54, 13]\n"
          ]
        },
        {
          "name": "stderr",
          "output_type": "stream",
          "text": [
            " 25%|██▍       | 51/208 [00:40<02:00,  1.31it/s]"
          ]
        },
        {
          "name": "stdout",
          "output_type": "stream",
          "text": [
            "loss: 23.458152770996094\n",
            "minictenic\n",
            "[38, 6, 45, 6, 0, 54, 32, 14, 6, 33]\n",
            "horypophin\n",
            "[35, 58, 14, 57, 29, 19, 29, 35, 6, 39]\n",
            "walousovya\n",
            "[40, 58, 15, 5, 42, 63, 6, 53, 1, 58]\n",
            "ablyagleap\n",
            "[43, 17, 60, 50, 13, 23, 60, 6, 43, 29]\n",
            "gacayeniat\n",
            "[8, 43, 33, 58, 49, 6, 45, 6, 13, 54]\n"
          ]
        },
        {
          "name": "stderr",
          "output_type": "stream",
          "text": [
            " 49%|████▊     | 101/208 [01:20<01:31,  1.17it/s]"
          ]
        },
        {
          "name": "stdout",
          "output_type": "stream",
          "text": [
            "loss: 23.080963134765625\n",
            "sklistylee\n",
            "[63, 36, 60, 6, 0, 54, 4, 60, 6, 32]\n",
            "corsnejogl\n",
            "[8, 19, 14, 9, 45, 6, 28, 43, 23, 60]\n",
            "hadetylalp\n",
            "[35, 58, 30, 6, 54, 57, 15, 13, 15, 29]\n",
            "innamillyn\n",
            "[51, 39, 30, 13, 45, 6, 15, 60, 57, 39]\n",
            "kendisstin\n",
            "[61, 32, 14, 45, 6, 0, 63, 54, 9, 30]\n"
          ]
        },
        {
          "name": "stderr",
          "output_type": "stream",
          "text": [
            " 73%|███████▎  | 151/208 [01:58<00:40,  1.39it/s]"
          ]
        },
        {
          "name": "stdout",
          "output_type": "stream",
          "text": [
            "loss: 23.196903228759766\n",
            "piorbehyct\n",
            "[29, 9, 19, 14, 38, 6, 35, 57, 33, 54]\n",
            "unveraceng\n",
            "[51, 39, 53, 32, 14, 13, 33, 6, 39, 23]\n",
            "methaliydu\n",
            "[38, 6, 0, 35, 13, 15, 9, 19, 38, 55]\n",
            "horraOerde\n",
            "[8, 58, 14, 18, 43, 53, 32, 14, 38, 43]\n",
            "mekuntivec\n",
            "[38, 6, 36, 51, 39, 54, 9, 53, 6, 30]\n"
          ]
        },
        {
          "name": "stderr",
          "output_type": "stream",
          "text": [
            " 97%|█████████▋| 201/208 [02:35<00:04,  1.45it/s]"
          ]
        },
        {
          "name": "stdout",
          "output_type": "stream",
          "text": [
            "loss: 22.970457077026367\n",
            "tillyuract\n",
            "[10, 58, 15, 60, 57, 62, 18, 43, 33, 54]\n",
            "fisinacrap\n",
            "[38, 6, 0, 9, 30, 13, 33, 18, 43, 29]\n",
            "peurebvers\n",
            "[8, 43, 62, 18, 43, 56, 53, 32, 14, 63]\n",
            "sercatiduc\n",
            "[63, 32, 14, 30, 13, 54, 9, 30, 55, 54]\n",
            "Supiatonar\n",
            "[8, 47, 29, 6, 13, 54, 19, 14, 13, 14]\n"
          ]
        },
        {
          "name": "stderr",
          "output_type": "stream",
          "text": [
            "100%|██████████| 208/208 [02:40<00:00,  1.29it/s]\n"
          ]
        },
        {
          "name": "stdout",
          "output_type": "stream",
          "text": [
            "loss: 23.480690002441406\n",
            "amzalantar\n",
            "[51, 21, 45, 13, 15, 13, 39, 54, 13, 14]\n",
            "========= Results: epoch 10 of 10 =========\n",
            "train loss: 23.25| valid loss: 23.27\n",
            "\n"
          ]
        }
      ],
      "source": [
        "# Initialize model\n",
        "model = HMM(N=64, M=M)\n",
        "\n",
        "# Train the model\n",
        "num_epochs = 10\n",
        "trainer = Trainer(model, lr=0.01)\n",
        "\n",
        "for epoch in range(num_epochs):\n",
        "        print(\"========= Epoch %d of %d =========\" % (epoch+1, num_epochs))\n",
        "        train_loss = trainer.train(train_dataset)\n",
        "        valid_loss = trainer.test(valid_dataset)\n",
        "\n",
        "        print(\"========= Results: epoch %d of %d =========\" % (epoch+1, num_epochs))\n",
        "        print(\"train loss: %.2f| valid loss: %.2f\\n\" % (train_loss, valid_loss) )"
      ]
    },
    {
      "cell_type": "markdown",
      "metadata": {
        "id": "zymBj9QrDHRM"
      },
      "source": [
        "You may wish to try different values of $N$ and see what the impact on sample quality is."
      ]
    },
    {
      "cell_type": "code",
      "execution_count": 71,
      "metadata": {
        "colab": {
          "base_uri": "https://localhost:8080/"
        },
        "id": "auBibYUTtIom",
        "outputId": "ad9f161c-21dc-40a6-ce30-759d9c40c606"
      },
      "outputs": [
        {
          "name": "stdout",
          "output_type": "stream",
          "text": [
            "([[26, 7, 13, 33, 36]], tensor([[-13.0032]], grad_fn=<GatherBackward0>))\n",
            "([[26, 7, 6, 33, 36]], tensor([[-12.5004]], grad_fn=<GatherBackward0>))\n",
            "([[26, 7, 14, 33, 36]], tensor([[-18.7242]], grad_fn=<GatherBackward0>))\n",
            "([[26, 7, 6, 33, 36]], tensor([[-20.8399]], grad_fn=<GatherBackward0>))\n"
          ]
        }
      ],
      "source": [
        "x = torch.tensor(encode(\"quack\")).unsqueeze(0)\n",
        "T = torch.tensor([5])\n",
        "print(model.viterbi(x,T))\n",
        "\n",
        "x = torch.tensor(encode(\"quick\")).unsqueeze(0)\n",
        "T = torch.tensor([5])\n",
        "print(model.viterbi(x,T))\n",
        "\n",
        "x = torch.tensor(encode(\"qurck\")).unsqueeze(0)\n",
        "T = torch.tensor([5])\n",
        "print(model.viterbi(x,T)) # should have lower probability---in English only vowels follow \"qu\"\n",
        "\n",
        "x = torch.tensor(encode(\"qiick\")).unsqueeze(0)\n",
        "T = torch.tensor([5])\n",
        "print(model.viterbi(x,T)) # should have lower probability---in English only \"u\" follows \"q\"\n"
      ]
    },
    {
      "cell_type": "markdown",
      "metadata": {
        "id": "7eZeQXWjhDev"
      },
      "source": [
        "## Conclusion\n",
        "\n",
        "HMMs used to be very popular in natural language processing, but they have largely been overshadowed by neural network models like RNNs and Transformers. Still, it is fun and instructive to study the HMM; some commonly used machine learning techniques like [Connectionist Temporal Classification](https://www.cs.toronto.edu/~graves/icml_2006.pdf) are inspired by HMM methods. HMMs are [still used in conjunction with neural networks in speech recognition](https://arxiv.org/abs/1811.07453), where the assumption of a one-hot state makes sense for modelling phonemes, which are spoken one at a time."
      ]
    },
    {
      "cell_type": "markdown",
      "metadata": {
        "id": "gXQOBz5zqe10"
      },
      "source": [
        "## Acknowledgments\n",
        "\n",
        "This notebook is based partly on Lawrence Rabiner's excellent article \"[A Tutorial on Hidden Markov Models and Selected Applications in Speech Recognition](https://www.cs.cmu.edu/~cga/behavior/rabiner1.pdf)\", which you may also like to check out. Thanks also to Dima Serdyuk and Kyle Gorman for their feedback on the draft."
      ]
    }
  ],
  "metadata": {
    "colab": {
      "provenance": []
    },
    "kernelspec": {
      "display_name": "Python 3",
      "name": "python3"
    },
    "language_info": {
      "codemirror_mode": {
        "name": "ipython",
        "version": 3
      },
      "file_extension": ".py",
      "mimetype": "text/x-python",
      "name": "python",
      "nbconvert_exporter": "python",
      "pygments_lexer": "ipython3",
      "version": "3.12.3"
    }
  },
  "nbformat": 4,
  "nbformat_minor": 0
}
